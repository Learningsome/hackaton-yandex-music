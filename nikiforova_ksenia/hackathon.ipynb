{
 "cells": [
  {
   "cell_type": "code",
   "execution_count": 98,
   "id": "45f73906",
   "metadata": {},
   "outputs": [],
   "source": [
    "import pandas as pd"
   ]
  },
  {
   "cell_type": "markdown",
   "id": "05130b0d",
   "metadata": {},
   "source": [
    "# Подготовка и предобработка данных"
   ]
  },
  {
   "cell_type": "code",
   "execution_count": 236,
   "id": "56988eac",
   "metadata": {},
   "outputs": [],
   "source": [
    "covers = pd.read_json('downloads/data/data/covers.json', lines=True)"
   ]
  },
  {
   "cell_type": "code",
   "execution_count": 237,
   "id": "459d641c",
   "metadata": {
    "scrolled": true
   },
   "outputs": [
    {
     "data": {
      "text/html": [
       "<div>\n",
       "<style scoped>\n",
       "    .dataframe tbody tr th:only-of-type {\n",
       "        vertical-align: middle;\n",
       "    }\n",
       "\n",
       "    .dataframe tbody tr th {\n",
       "        vertical-align: top;\n",
       "    }\n",
       "\n",
       "    .dataframe thead th {\n",
       "        text-align: right;\n",
       "    }\n",
       "</style>\n",
       "<table border=\"1\" class=\"dataframe\">\n",
       "  <thead>\n",
       "    <tr style=\"text-align: right;\">\n",
       "      <th></th>\n",
       "      <th>original_track_id</th>\n",
       "      <th>track_id</th>\n",
       "      <th>track_remake_type</th>\n",
       "    </tr>\n",
       "  </thead>\n",
       "  <tbody>\n",
       "    <tr>\n",
       "      <th>0</th>\n",
       "      <td>eeb69a3cb92300456b6a5f4162093851</td>\n",
       "      <td>eeb69a3cb92300456b6a5f4162093851</td>\n",
       "      <td>ORIGINAL</td>\n",
       "    </tr>\n",
       "    <tr>\n",
       "      <th>1</th>\n",
       "      <td>fe7ee8fc1959cc7214fa21c4840dff0a</td>\n",
       "      <td>fe7ee8fc1959cc7214fa21c4840dff0a</td>\n",
       "      <td>ORIGINAL</td>\n",
       "    </tr>\n",
       "    <tr>\n",
       "      <th>2</th>\n",
       "      <td>cd89fef7ffdd490db800357f47722b20</td>\n",
       "      <td>cd89fef7ffdd490db800357f47722b20</td>\n",
       "      <td>ORIGINAL</td>\n",
       "    </tr>\n",
       "    <tr>\n",
       "      <th>3</th>\n",
       "      <td>995665640dc319973d3173a74a03860c</td>\n",
       "      <td>995665640dc319973d3173a74a03860c</td>\n",
       "      <td>ORIGINAL</td>\n",
       "    </tr>\n",
       "    <tr>\n",
       "      <th>4</th>\n",
       "      <td>None</td>\n",
       "      <td>d6288499d0083cc34e60a077b7c4b3e1</td>\n",
       "      <td>COVER</td>\n",
       "    </tr>\n",
       "    <tr>\n",
       "      <th>...</th>\n",
       "      <td>...</td>\n",
       "      <td>...</td>\n",
       "      <td>...</td>\n",
       "    </tr>\n",
       "    <tr>\n",
       "      <th>71592</th>\n",
       "      <td>4788e0bf61d80ef5ec9380aa8a8119d9</td>\n",
       "      <td>4788e0bf61d80ef5ec9380aa8a8119d9</td>\n",
       "      <td>ORIGINAL</td>\n",
       "    </tr>\n",
       "    <tr>\n",
       "      <th>71593</th>\n",
       "      <td>None</td>\n",
       "      <td>78b2db35476f134dc3cdfbf4d77ba034</td>\n",
       "      <td>COVER</td>\n",
       "    </tr>\n",
       "    <tr>\n",
       "      <th>71594</th>\n",
       "      <td>None</td>\n",
       "      <td>e720ff378efe032df56e0e656a6a92d3</td>\n",
       "      <td>COVER</td>\n",
       "    </tr>\n",
       "    <tr>\n",
       "      <th>71595</th>\n",
       "      <td>554e33d79e258da91149c3a4985cf6a1</td>\n",
       "      <td>554e33d79e258da91149c3a4985cf6a1</td>\n",
       "      <td>ORIGINAL</td>\n",
       "    </tr>\n",
       "    <tr>\n",
       "      <th>71596</th>\n",
       "      <td>7b0f6ff24137be50cf5ea5f82d789448</td>\n",
       "      <td>7b0f6ff24137be50cf5ea5f82d789448</td>\n",
       "      <td>ORIGINAL</td>\n",
       "    </tr>\n",
       "  </tbody>\n",
       "</table>\n",
       "<p>71597 rows × 3 columns</p>\n",
       "</div>"
      ],
      "text/plain": [
       "                      original_track_id                          track_id  \\\n",
       "0      eeb69a3cb92300456b6a5f4162093851  eeb69a3cb92300456b6a5f4162093851   \n",
       "1      fe7ee8fc1959cc7214fa21c4840dff0a  fe7ee8fc1959cc7214fa21c4840dff0a   \n",
       "2      cd89fef7ffdd490db800357f47722b20  cd89fef7ffdd490db800357f47722b20   \n",
       "3      995665640dc319973d3173a74a03860c  995665640dc319973d3173a74a03860c   \n",
       "4                                  None  d6288499d0083cc34e60a077b7c4b3e1   \n",
       "...                                 ...                               ...   \n",
       "71592  4788e0bf61d80ef5ec9380aa8a8119d9  4788e0bf61d80ef5ec9380aa8a8119d9   \n",
       "71593                              None  78b2db35476f134dc3cdfbf4d77ba034   \n",
       "71594                              None  e720ff378efe032df56e0e656a6a92d3   \n",
       "71595  554e33d79e258da91149c3a4985cf6a1  554e33d79e258da91149c3a4985cf6a1   \n",
       "71596  7b0f6ff24137be50cf5ea5f82d789448  7b0f6ff24137be50cf5ea5f82d789448   \n",
       "\n",
       "      track_remake_type  \n",
       "0              ORIGINAL  \n",
       "1              ORIGINAL  \n",
       "2              ORIGINAL  \n",
       "3              ORIGINAL  \n",
       "4                 COVER  \n",
       "...                 ...  \n",
       "71592          ORIGINAL  \n",
       "71593             COVER  \n",
       "71594             COVER  \n",
       "71595          ORIGINAL  \n",
       "71596          ORIGINAL  \n",
       "\n",
       "[71597 rows x 3 columns]"
      ]
     },
     "execution_count": 237,
     "metadata": {},
     "output_type": "execute_result"
    }
   ],
   "source": [
    "covers"
   ]
  },
  {
   "cell_type": "code",
   "execution_count": 495,
   "id": "1a602789",
   "metadata": {
    "scrolled": true
   },
   "outputs": [
    {
     "name": "stdout",
     "output_type": "stream",
     "text": [
      "4293 67304\n"
     ]
    }
   ],
   "source": [
    "print(sum(covers['track_remake_type'] == 'ORIGINAL'), sum(covers['track_remake_type'] == 'COVER'))"
   ]
  },
  {
   "cell_type": "markdown",
   "id": "c499062c",
   "metadata": {},
   "source": [
    "Наблюдается дисбаланс классов"
   ]
  },
  {
   "cell_type": "code",
   "execution_count": 239,
   "id": "bc72acb3",
   "metadata": {
    "scrolled": true
   },
   "outputs": [
    {
     "data": {
      "text/plain": [
       "original_track_id    66776\n",
       "track_id                 0\n",
       "track_remake_type        0\n",
       "dtype: int64"
      ]
     },
     "execution_count": 239,
     "metadata": {},
     "output_type": "execute_result"
    }
   ],
   "source": [
    "covers.isna().sum()"
   ]
  },
  {
   "cell_type": "code",
   "execution_count": 240,
   "id": "6ce64677",
   "metadata": {
    "scrolled": false
   },
   "outputs": [
    {
     "data": {
      "text/plain": [
       "original_track_id    0\n",
       "track_id             0\n",
       "track_remake_type    0\n",
       "dtype: int64"
      ]
     },
     "execution_count": 240,
     "metadata": {},
     "output_type": "execute_result"
    }
   ],
   "source": [
    "covers[covers['track_remake_type'] == 'ORIGINAL'].isna().sum()"
   ]
  },
  {
   "cell_type": "code",
   "execution_count": 242,
   "id": "41036b44",
   "metadata": {},
   "outputs": [
    {
     "data": {
      "text/html": [
       "<div>\n",
       "<style scoped>\n",
       "    .dataframe tbody tr th:only-of-type {\n",
       "        vertical-align: middle;\n",
       "    }\n",
       "\n",
       "    .dataframe tbody tr th {\n",
       "        vertical-align: top;\n",
       "    }\n",
       "\n",
       "    .dataframe thead th {\n",
       "        text-align: right;\n",
       "    }\n",
       "</style>\n",
       "<table border=\"1\" class=\"dataframe\">\n",
       "  <thead>\n",
       "    <tr style=\"text-align: right;\">\n",
       "      <th></th>\n",
       "      <th>original_track_id</th>\n",
       "      <th>track_id</th>\n",
       "      <th>track_remake_type</th>\n",
       "    </tr>\n",
       "  </thead>\n",
       "  <tbody>\n",
       "    <tr>\n",
       "      <th>33</th>\n",
       "      <td>b9213d37c37deffe8b8af0dac5d0c3c4</td>\n",
       "      <td>58a293c4c86b4c0000b0e683c77432a8</td>\n",
       "      <td>COVER</td>\n",
       "    </tr>\n",
       "    <tr>\n",
       "      <th>40</th>\n",
       "      <td>deb9b9598176a0bab1212d430b10bd04</td>\n",
       "      <td>bfa9c5c62c08a0db763e2a2284e3d1b2</td>\n",
       "      <td>COVER</td>\n",
       "    </tr>\n",
       "    <tr>\n",
       "      <th>51</th>\n",
       "      <td>b9213d37c37deffe8b8af0dac5d0c3c4</td>\n",
       "      <td>79eb48bb4409051aab1602e390c98736</td>\n",
       "      <td>COVER</td>\n",
       "    </tr>\n",
       "    <tr>\n",
       "      <th>60</th>\n",
       "      <td>b9213d37c37deffe8b8af0dac5d0c3c4</td>\n",
       "      <td>a106cea5c02ed8a70b421831cc4e7192</td>\n",
       "      <td>COVER</td>\n",
       "    </tr>\n",
       "    <tr>\n",
       "      <th>67</th>\n",
       "      <td>b9213d37c37deffe8b8af0dac5d0c3c4</td>\n",
       "      <td>7c9052caed90949c46c171951cd9dc3d</td>\n",
       "      <td>COVER</td>\n",
       "    </tr>\n",
       "    <tr>\n",
       "      <th>...</th>\n",
       "      <td>...</td>\n",
       "      <td>...</td>\n",
       "      <td>...</td>\n",
       "    </tr>\n",
       "    <tr>\n",
       "      <th>70720</th>\n",
       "      <td>25b8e40b7fa4df88af70590ee44bb820</td>\n",
       "      <td>af95d0aa50dc1934de870c7cc0adafc7</td>\n",
       "      <td>COVER</td>\n",
       "    </tr>\n",
       "    <tr>\n",
       "      <th>70721</th>\n",
       "      <td>8eb966d9b7b88b0816b70f7d47a963df</td>\n",
       "      <td>0a89e59f9216b80f5619b4faa8e3753a</td>\n",
       "      <td>COVER</td>\n",
       "    </tr>\n",
       "    <tr>\n",
       "      <th>70932</th>\n",
       "      <td>efb09c8e01086753d9ed9119a88d8748</td>\n",
       "      <td>ddcaf83d03b764f17bf3adb35fd93dcf</td>\n",
       "      <td>COVER</td>\n",
       "    </tr>\n",
       "    <tr>\n",
       "      <th>71003</th>\n",
       "      <td>a6bea0f1418b5e768b689604e11d111d</td>\n",
       "      <td>4db9bfa70567a07578ad151df3b7f36c</td>\n",
       "      <td>COVER</td>\n",
       "    </tr>\n",
       "    <tr>\n",
       "      <th>71323</th>\n",
       "      <td>96437a3517f1f408381363bc8d539718</td>\n",
       "      <td>16cd4a1aabf7870afda93320dbd4698c</td>\n",
       "      <td>COVER</td>\n",
       "    </tr>\n",
       "  </tbody>\n",
       "</table>\n",
       "<p>528 rows × 3 columns</p>\n",
       "</div>"
      ],
      "text/plain": [
       "                      original_track_id                          track_id  \\\n",
       "33     b9213d37c37deffe8b8af0dac5d0c3c4  58a293c4c86b4c0000b0e683c77432a8   \n",
       "40     deb9b9598176a0bab1212d430b10bd04  bfa9c5c62c08a0db763e2a2284e3d1b2   \n",
       "51     b9213d37c37deffe8b8af0dac5d0c3c4  79eb48bb4409051aab1602e390c98736   \n",
       "60     b9213d37c37deffe8b8af0dac5d0c3c4  a106cea5c02ed8a70b421831cc4e7192   \n",
       "67     b9213d37c37deffe8b8af0dac5d0c3c4  7c9052caed90949c46c171951cd9dc3d   \n",
       "...                                 ...                               ...   \n",
       "70720  25b8e40b7fa4df88af70590ee44bb820  af95d0aa50dc1934de870c7cc0adafc7   \n",
       "70721  8eb966d9b7b88b0816b70f7d47a963df  0a89e59f9216b80f5619b4faa8e3753a   \n",
       "70932  efb09c8e01086753d9ed9119a88d8748  ddcaf83d03b764f17bf3adb35fd93dcf   \n",
       "71003  a6bea0f1418b5e768b689604e11d111d  4db9bfa70567a07578ad151df3b7f36c   \n",
       "71323  96437a3517f1f408381363bc8d539718  16cd4a1aabf7870afda93320dbd4698c   \n",
       "\n",
       "      track_remake_type  \n",
       "33                COVER  \n",
       "40                COVER  \n",
       "51                COVER  \n",
       "60                COVER  \n",
       "67                COVER  \n",
       "...                 ...  \n",
       "70720             COVER  \n",
       "70721             COVER  \n",
       "70932             COVER  \n",
       "71003             COVER  \n",
       "71323             COVER  \n",
       "\n",
       "[528 rows x 3 columns]"
      ]
     },
     "execution_count": 242,
     "metadata": {},
     "output_type": "execute_result"
    }
   ],
   "source": [
    "covers[(covers['track_remake_type'] == 'COVER') & (covers['original_track_id'].isna() == False)]"
   ]
  },
  {
   "cell_type": "markdown",
   "id": "fd4230a3",
   "metadata": {},
   "source": [
    "Только у 528 каверов есть оригинальный трек"
   ]
  },
  {
   "cell_type": "code",
   "execution_count": 243,
   "id": "0e8b4465",
   "metadata": {
    "scrolled": true
   },
   "outputs": [
    {
     "name": "stdout",
     "output_type": "stream",
     "text": [
      "<class 'pandas.core.frame.DataFrame'>\n",
      "RangeIndex: 71597 entries, 0 to 71596\n",
      "Data columns (total 3 columns):\n",
      " #   Column             Non-Null Count  Dtype \n",
      "---  ------             --------------  ----- \n",
      " 0   original_track_id  4821 non-null   object\n",
      " 1   track_id           71597 non-null  object\n",
      " 2   track_remake_type  71597 non-null  object\n",
      "dtypes: object(3)\n",
      "memory usage: 1.6+ MB\n"
     ]
    }
   ],
   "source": [
    "covers.info()"
   ]
  },
  {
   "cell_type": "code",
   "execution_count": 244,
   "id": "b9f37099",
   "metadata": {},
   "outputs": [
    {
     "data": {
      "text/plain": [
       "0"
      ]
     },
     "execution_count": 244,
     "metadata": {},
     "output_type": "execute_result"
    }
   ],
   "source": [
    "covers.duplicated().sum()"
   ]
  },
  {
   "cell_type": "code",
   "execution_count": 245,
   "id": "579a63c2",
   "metadata": {},
   "outputs": [
    {
     "data": {
      "text/plain": [
       "71597"
      ]
     },
     "execution_count": 245,
     "metadata": {},
     "output_type": "execute_result"
    }
   ],
   "source": [
    "covers['track_id'].nunique()"
   ]
  },
  {
   "cell_type": "code",
   "execution_count": 302,
   "id": "8c8f98d1",
   "metadata": {},
   "outputs": [],
   "source": [
    "lyrics = pd.read_json('downloads/data/data/lyrics.json', lines=True)"
   ]
  },
  {
   "cell_type": "code",
   "execution_count": 303,
   "id": "5d01b2f9",
   "metadata": {
    "scrolled": true
   },
   "outputs": [
    {
     "data": {
      "text/html": [
       "<div>\n",
       "<style scoped>\n",
       "    .dataframe tbody tr th:only-of-type {\n",
       "        vertical-align: middle;\n",
       "    }\n",
       "\n",
       "    .dataframe tbody tr th {\n",
       "        vertical-align: top;\n",
       "    }\n",
       "\n",
       "    .dataframe thead th {\n",
       "        text-align: right;\n",
       "    }\n",
       "</style>\n",
       "<table border=\"1\" class=\"dataframe\">\n",
       "  <thead>\n",
       "    <tr style=\"text-align: right;\">\n",
       "      <th></th>\n",
       "      <th>lyricId</th>\n",
       "      <th>text</th>\n",
       "      <th>track_id</th>\n",
       "    </tr>\n",
       "  </thead>\n",
       "  <tbody>\n",
       "    <tr>\n",
       "      <th>0</th>\n",
       "      <td>a951f9504e89759e9d23039b7b17ec14</td>\n",
       "      <td>Живу сейчас обломами, обломками не той любви\\n...</td>\n",
       "      <td>1c4b1230f937e4c548ff732523214dcd</td>\n",
       "    </tr>\n",
       "    <tr>\n",
       "      <th>1</th>\n",
       "      <td>0c749bc3f01eb8e6cf986fa14ccfc585</td>\n",
       "      <td>Tell me your fable\\nA fable\\nTell me your fabl...</td>\n",
       "      <td>0faea89b0d7d6235b5b74def72511bd8</td>\n",
       "    </tr>\n",
       "    <tr>\n",
       "      <th>2</th>\n",
       "      <td>e2c8830fbc86e5964478243099eec23a</td>\n",
       "      <td>You're ashamed about all your fears and doubts...</td>\n",
       "      <td>9c6dc41d5ccd9968d07f055da5d8f741</td>\n",
       "    </tr>\n",
       "    <tr>\n",
       "      <th>3</th>\n",
       "      <td>e2c8830fbc86e5964478243099eec23a</td>\n",
       "      <td>You're ashamed about all your fears and doubts...</td>\n",
       "      <td>bfd04a73e9cffdf0e282c92219a86ea1</td>\n",
       "    </tr>\n",
       "    <tr>\n",
       "      <th>4</th>\n",
       "      <td>7624653ca8522ba93470843c74961b7d</td>\n",
       "      <td>You showed him all the best of you,\\nBut I'm a...</td>\n",
       "      <td>8d70930d09cd239c948408d1317d8659</td>\n",
       "    </tr>\n",
       "    <tr>\n",
       "      <th>...</th>\n",
       "      <td>...</td>\n",
       "      <td>...</td>\n",
       "      <td>...</td>\n",
       "    </tr>\n",
       "    <tr>\n",
       "      <th>11409</th>\n",
       "      <td>90522f12df92da5d585f8f6ec9bb34b5</td>\n",
       "      <td>All my little plans and schemes\\nLost like som...</td>\n",
       "      <td>b734225e54122798535b40666e6e361e</td>\n",
       "    </tr>\n",
       "    <tr>\n",
       "      <th>11410</th>\n",
       "      <td>b82bd468c888ae17d2e976c8cf3b9d4c</td>\n",
       "      <td>I will make my way\\nI'm trying to survive anot...</td>\n",
       "      <td>b3cbb82e4ef67e75b1e47054a681db86</td>\n",
       "    </tr>\n",
       "    <tr>\n",
       "      <th>11411</th>\n",
       "      <td>22bae9d3185254ea34072c692a2cd63d</td>\n",
       "      <td>Left a good job in the city\\nWorking for the m...</td>\n",
       "      <td>d5c149b59a800a6f9f61adda6d3e1b1d</td>\n",
       "    </tr>\n",
       "    <tr>\n",
       "      <th>11412</th>\n",
       "      <td>0979b4049635e1c0fc161573f75ab23a</td>\n",
       "      <td>Left a good job in the city\\nWorking for the m...</td>\n",
       "      <td>d5c149b59a800a6f9f61adda6d3e1b1d</td>\n",
       "    </tr>\n",
       "    <tr>\n",
       "      <th>11413</th>\n",
       "      <td>4c07f8d17222f821114790241f816431</td>\n",
       "      <td>Этой ночью чьё-то сердце от любви горит\\nВсё в...</td>\n",
       "      <td>c860754a50dac664d847bca85e6897f4</td>\n",
       "    </tr>\n",
       "  </tbody>\n",
       "</table>\n",
       "<p>11414 rows × 3 columns</p>\n",
       "</div>"
      ],
      "text/plain": [
       "                                lyricId  \\\n",
       "0      a951f9504e89759e9d23039b7b17ec14   \n",
       "1      0c749bc3f01eb8e6cf986fa14ccfc585   \n",
       "2      e2c8830fbc86e5964478243099eec23a   \n",
       "3      e2c8830fbc86e5964478243099eec23a   \n",
       "4      7624653ca8522ba93470843c74961b7d   \n",
       "...                                 ...   \n",
       "11409  90522f12df92da5d585f8f6ec9bb34b5   \n",
       "11410  b82bd468c888ae17d2e976c8cf3b9d4c   \n",
       "11411  22bae9d3185254ea34072c692a2cd63d   \n",
       "11412  0979b4049635e1c0fc161573f75ab23a   \n",
       "11413  4c07f8d17222f821114790241f816431   \n",
       "\n",
       "                                                    text  \\\n",
       "0      Живу сейчас обломами, обломками не той любви\\n...   \n",
       "1      Tell me your fable\\nA fable\\nTell me your fabl...   \n",
       "2      You're ashamed about all your fears and doubts...   \n",
       "3      You're ashamed about all your fears and doubts...   \n",
       "4      You showed him all the best of you,\\nBut I'm a...   \n",
       "...                                                  ...   \n",
       "11409  All my little plans and schemes\\nLost like som...   \n",
       "11410  I will make my way\\nI'm trying to survive anot...   \n",
       "11411  Left a good job in the city\\nWorking for the m...   \n",
       "11412  Left a good job in the city\\nWorking for the m...   \n",
       "11413  Этой ночью чьё-то сердце от любви горит\\nВсё в...   \n",
       "\n",
       "                               track_id  \n",
       "0      1c4b1230f937e4c548ff732523214dcd  \n",
       "1      0faea89b0d7d6235b5b74def72511bd8  \n",
       "2      9c6dc41d5ccd9968d07f055da5d8f741  \n",
       "3      bfd04a73e9cffdf0e282c92219a86ea1  \n",
       "4      8d70930d09cd239c948408d1317d8659  \n",
       "...                                 ...  \n",
       "11409  b734225e54122798535b40666e6e361e  \n",
       "11410  b3cbb82e4ef67e75b1e47054a681db86  \n",
       "11411  d5c149b59a800a6f9f61adda6d3e1b1d  \n",
       "11412  d5c149b59a800a6f9f61adda6d3e1b1d  \n",
       "11413  c860754a50dac664d847bca85e6897f4  \n",
       "\n",
       "[11414 rows x 3 columns]"
      ]
     },
     "execution_count": 303,
     "metadata": {},
     "output_type": "execute_result"
    }
   ],
   "source": [
    "lyrics"
   ]
  },
  {
   "cell_type": "code",
   "execution_count": 304,
   "id": "45c43672",
   "metadata": {},
   "outputs": [
    {
     "data": {
      "text/plain": [
       "10644"
      ]
     },
     "execution_count": 304,
     "metadata": {},
     "output_type": "execute_result"
    }
   ],
   "source": [
    "lyrics['text'].nunique()"
   ]
  },
  {
   "cell_type": "code",
   "execution_count": 305,
   "id": "5e33cc56",
   "metadata": {},
   "outputs": [
    {
     "data": {
      "text/plain": [
       "10277"
      ]
     },
     "execution_count": 305,
     "metadata": {},
     "output_type": "execute_result"
    }
   ],
   "source": [
    "lyrics['track_id'].nunique()"
   ]
  },
  {
   "cell_type": "code",
   "execution_count": 306,
   "id": "b6794cf1",
   "metadata": {},
   "outputs": [
    {
     "data": {
      "text/plain": [
       "10915"
      ]
     },
     "execution_count": 306,
     "metadata": {},
     "output_type": "execute_result"
    }
   ],
   "source": [
    "lyrics['lyricId'].nunique()"
   ]
  },
  {
   "cell_type": "code",
   "execution_count": 307,
   "id": "c784c222",
   "metadata": {},
   "outputs": [
    {
     "data": {
      "text/plain": [
       "264"
      ]
     },
     "execution_count": 307,
     "metadata": {},
     "output_type": "execute_result"
    }
   ],
   "source": [
    "lyrics[['track_id', 'text']].duplicated().sum()"
   ]
  },
  {
   "cell_type": "code",
   "execution_count": 344,
   "id": "c58e46f9",
   "metadata": {},
   "outputs": [],
   "source": [
    "lyrics = lyrics.drop_duplicates(subset=['track_id', 'text'], keep='first')"
   ]
  },
  {
   "cell_type": "markdown",
   "id": "fb45b153",
   "metadata": {},
   "source": [
    "Встречаются строки, где track_id и текст одинаковые, но lyricid разные. Я решила удалить эти строки."
   ]
  },
  {
   "cell_type": "code",
   "execution_count": 345,
   "id": "94d57585",
   "metadata": {},
   "outputs": [
    {
     "data": {
      "text/plain": [
       "lyricId     0\n",
       "text        0\n",
       "track_id    0\n",
       "dtype: int64"
      ]
     },
     "execution_count": 345,
     "metadata": {},
     "output_type": "execute_result"
    }
   ],
   "source": [
    "lyrics.isna().sum()"
   ]
  },
  {
   "cell_type": "code",
   "execution_count": 324,
   "id": "c3224764",
   "metadata": {},
   "outputs": [],
   "source": [
    "meta = pd.read_json('downloads/data/data/meta.json', lines=True)"
   ]
  },
  {
   "cell_type": "code",
   "execution_count": 325,
   "id": "b8cc3b74",
   "metadata": {
    "scrolled": true
   },
   "outputs": [
    {
     "data": {
      "text/html": [
       "<div>\n",
       "<style scoped>\n",
       "    .dataframe tbody tr th:only-of-type {\n",
       "        vertical-align: middle;\n",
       "    }\n",
       "\n",
       "    .dataframe tbody tr th {\n",
       "        vertical-align: top;\n",
       "    }\n",
       "\n",
       "    .dataframe thead th {\n",
       "        text-align: right;\n",
       "    }\n",
       "</style>\n",
       "<table border=\"1\" class=\"dataframe\">\n",
       "  <thead>\n",
       "    <tr style=\"text-align: right;\">\n",
       "      <th></th>\n",
       "      <th>track_id</th>\n",
       "      <th>dttm</th>\n",
       "      <th>title</th>\n",
       "      <th>language</th>\n",
       "      <th>isrc</th>\n",
       "      <th>genres</th>\n",
       "      <th>duration</th>\n",
       "    </tr>\n",
       "  </thead>\n",
       "  <tbody>\n",
       "    <tr>\n",
       "      <th>0</th>\n",
       "      <td>c3b9d6a354ca008aa4518329aaa21380</td>\n",
       "      <td>1.639688e+12</td>\n",
       "      <td>Happy New Year</td>\n",
       "      <td>EN</td>\n",
       "      <td>RUB422103970</td>\n",
       "      <td>[DANCE]</td>\n",
       "      <td>161120.0</td>\n",
       "    </tr>\n",
       "    <tr>\n",
       "      <th>1</th>\n",
       "      <td>c57e3d13bbbf5322584a7e92e6f1f7ff</td>\n",
       "      <td>1.637762e+12</td>\n",
       "      <td>Bad Habits</td>\n",
       "      <td>EN</td>\n",
       "      <td>QZN882178276</td>\n",
       "      <td>[ELECTRONICS]</td>\n",
       "      <td>362260.0</td>\n",
       "    </tr>\n",
       "    <tr>\n",
       "      <th>2</th>\n",
       "      <td>955f2aafe8717908c140bf122ba4172d</td>\n",
       "      <td>1.637768e+12</td>\n",
       "      <td>Por Esa Loca Vanidad</td>\n",
       "      <td>None</td>\n",
       "      <td>QZNJZ2122549</td>\n",
       "      <td>[FOLK, LATINFOLK]</td>\n",
       "      <td>260000.0</td>\n",
       "    </tr>\n",
       "    <tr>\n",
       "      <th>3</th>\n",
       "      <td>fae5a077c9956045955dde02143bd8ff</td>\n",
       "      <td>1.637768e+12</td>\n",
       "      <td>Mil Lagrimas</td>\n",
       "      <td>None</td>\n",
       "      <td>QZNJZ2166033</td>\n",
       "      <td>[FOLK, LATINFOLK]</td>\n",
       "      <td>190000.0</td>\n",
       "    </tr>\n",
       "    <tr>\n",
       "      <th>4</th>\n",
       "      <td>6bede082154d34fc18d9a6744bc95bf5</td>\n",
       "      <td>1.637768e+12</td>\n",
       "      <td>Sexo Humo y Alcohol</td>\n",
       "      <td>None</td>\n",
       "      <td>QZNJZ2122551</td>\n",
       "      <td>[FOLK, LATINFOLK]</td>\n",
       "      <td>203000.0</td>\n",
       "    </tr>\n",
       "    <tr>\n",
       "      <th>...</th>\n",
       "      <td>...</td>\n",
       "      <td>...</td>\n",
       "      <td>...</td>\n",
       "      <td>...</td>\n",
       "      <td>...</td>\n",
       "      <td>...</td>\n",
       "      <td>...</td>\n",
       "    </tr>\n",
       "    <tr>\n",
       "      <th>71764</th>\n",
       "      <td>4be93dea1715e54db86aaa7f7e9bfb10</td>\n",
       "      <td>1.560403e+12</td>\n",
       "      <td>Chanceuse</td>\n",
       "      <td>FR</td>\n",
       "      <td>CAISO1800023</td>\n",
       "      <td>[INDIE]</td>\n",
       "      <td>212690.0</td>\n",
       "    </tr>\n",
       "    <tr>\n",
       "      <th>71765</th>\n",
       "      <td>7cba0f30eaa8766d6c203eff2f3750a2</td>\n",
       "      <td>1.560433e+12</td>\n",
       "      <td>Quiero Que Vuelvas</td>\n",
       "      <td>None</td>\n",
       "      <td>ES71G1738868</td>\n",
       "      <td>[POP]</td>\n",
       "      <td>237540.0</td>\n",
       "    </tr>\n",
       "    <tr>\n",
       "      <th>71766</th>\n",
       "      <td>26b6aca1c6a02ad0e2a939164716657e</td>\n",
       "      <td>1.560448e+12</td>\n",
       "      <td>Vacation</td>\n",
       "      <td>EN</td>\n",
       "      <td>USA2B1511447</td>\n",
       "      <td>[ALTERNATIVE]</td>\n",
       "      <td>215210.0</td>\n",
       "    </tr>\n",
       "    <tr>\n",
       "      <th>71767</th>\n",
       "      <td>d904dda141238e6ad1b428bfbb21262d</td>\n",
       "      <td>1.560448e+12</td>\n",
       "      <td>Dance Hall Days</td>\n",
       "      <td>EN</td>\n",
       "      <td>USA2B1511448</td>\n",
       "      <td>[ALTERNATIVE]</td>\n",
       "      <td>251010.0</td>\n",
       "    </tr>\n",
       "    <tr>\n",
       "      <th>71768</th>\n",
       "      <td>5731fc0a34c663a0c0082c712df15266</td>\n",
       "      <td>1.625087e+12</td>\n",
       "      <td>17</td>\n",
       "      <td>RU</td>\n",
       "      <td>FR59R1921791</td>\n",
       "      <td>[POP, RUSPOP]</td>\n",
       "      <td>175640.0</td>\n",
       "    </tr>\n",
       "  </tbody>\n",
       "</table>\n",
       "<p>71769 rows × 7 columns</p>\n",
       "</div>"
      ],
      "text/plain": [
       "                               track_id          dttm                 title  \\\n",
       "0      c3b9d6a354ca008aa4518329aaa21380  1.639688e+12        Happy New Year   \n",
       "1      c57e3d13bbbf5322584a7e92e6f1f7ff  1.637762e+12            Bad Habits   \n",
       "2      955f2aafe8717908c140bf122ba4172d  1.637768e+12  Por Esa Loca Vanidad   \n",
       "3      fae5a077c9956045955dde02143bd8ff  1.637768e+12          Mil Lagrimas   \n",
       "4      6bede082154d34fc18d9a6744bc95bf5  1.637768e+12   Sexo Humo y Alcohol   \n",
       "...                                 ...           ...                   ...   \n",
       "71764  4be93dea1715e54db86aaa7f7e9bfb10  1.560403e+12             Chanceuse   \n",
       "71765  7cba0f30eaa8766d6c203eff2f3750a2  1.560433e+12    Quiero Que Vuelvas   \n",
       "71766  26b6aca1c6a02ad0e2a939164716657e  1.560448e+12              Vacation   \n",
       "71767  d904dda141238e6ad1b428bfbb21262d  1.560448e+12       Dance Hall Days   \n",
       "71768  5731fc0a34c663a0c0082c712df15266  1.625087e+12                    17   \n",
       "\n",
       "      language          isrc             genres  duration  \n",
       "0           EN  RUB422103970            [DANCE]  161120.0  \n",
       "1           EN  QZN882178276      [ELECTRONICS]  362260.0  \n",
       "2         None  QZNJZ2122549  [FOLK, LATINFOLK]  260000.0  \n",
       "3         None  QZNJZ2166033  [FOLK, LATINFOLK]  190000.0  \n",
       "4         None  QZNJZ2122551  [FOLK, LATINFOLK]  203000.0  \n",
       "...        ...           ...                ...       ...  \n",
       "71764       FR  CAISO1800023            [INDIE]  212690.0  \n",
       "71765     None  ES71G1738868              [POP]  237540.0  \n",
       "71766       EN  USA2B1511447      [ALTERNATIVE]  215210.0  \n",
       "71767       EN  USA2B1511448      [ALTERNATIVE]  251010.0  \n",
       "71768       RU  FR59R1921791      [POP, RUSPOP]  175640.0  \n",
       "\n",
       "[71769 rows x 7 columns]"
      ]
     },
     "execution_count": 325,
     "metadata": {},
     "output_type": "execute_result"
    }
   ],
   "source": [
    "meta"
   ]
  },
  {
   "cell_type": "code",
   "execution_count": 496,
   "id": "af933ad7",
   "metadata": {},
   "outputs": [
    {
     "data": {
      "text/plain": [
       "71768"
      ]
     },
     "execution_count": 496,
     "metadata": {},
     "output_type": "execute_result"
    }
   ],
   "source": [
    "meta['track_id'].nunique()"
   ]
  },
  {
   "cell_type": "code",
   "execution_count": 327,
   "id": "e23f1d9b",
   "metadata": {
    "scrolled": true
   },
   "outputs": [
    {
     "data": {
      "text/html": [
       "<div>\n",
       "<style scoped>\n",
       "    .dataframe tbody tr th:only-of-type {\n",
       "        vertical-align: middle;\n",
       "    }\n",
       "\n",
       "    .dataframe tbody tr th {\n",
       "        vertical-align: top;\n",
       "    }\n",
       "\n",
       "    .dataframe thead th {\n",
       "        text-align: right;\n",
       "    }\n",
       "</style>\n",
       "<table border=\"1\" class=\"dataframe\">\n",
       "  <thead>\n",
       "    <tr style=\"text-align: right;\">\n",
       "      <th></th>\n",
       "      <th>track_id</th>\n",
       "      <th>dttm</th>\n",
       "      <th>title</th>\n",
       "      <th>language</th>\n",
       "      <th>isrc</th>\n",
       "      <th>genres</th>\n",
       "      <th>duration</th>\n",
       "    </tr>\n",
       "  </thead>\n",
       "  <tbody>\n",
       "    <tr>\n",
       "      <th>27012</th>\n",
       "      <td>be0233f57dbb59079929ac646b0b9d5c</td>\n",
       "      <td>1.625590e+12</td>\n",
       "      <td>Zivot da stane ne sme</td>\n",
       "      <td>None</td>\n",
       "      <td>ATAJ12100470</td>\n",
       "      <td>[FOLK]</td>\n",
       "      <td>151190.0</td>\n",
       "    </tr>\n",
       "    <tr>\n",
       "      <th>26955</th>\n",
       "      <td>8aff9d28865aaf1fa44e46b82cba0f63</td>\n",
       "      <td>1.625586e+12</td>\n",
       "      <td>Burma</td>\n",
       "      <td>None</td>\n",
       "      <td>ATAJ12100470</td>\n",
       "      <td>[FOLK]</td>\n",
       "      <td>179300.0</td>\n",
       "    </tr>\n",
       "    <tr>\n",
       "      <th>51052</th>\n",
       "      <td>196a0973d73122891a426f8334105ce7</td>\n",
       "      <td>1.553893e+12</td>\n",
       "      <td>Inní mér syngur vitleysingur</td>\n",
       "      <td>EN</td>\n",
       "      <td>ATN261668711</td>\n",
       "      <td>[FOLKMETAL, METAL]</td>\n",
       "      <td>237010.0</td>\n",
       "    </tr>\n",
       "    <tr>\n",
       "      <th>66395</th>\n",
       "      <td>425761c88ebc69e89c748eb537671953</td>\n",
       "      <td>1.524943e+12</td>\n",
       "      <td>Inni Mer Syngur Vitleysingur</td>\n",
       "      <td>None</td>\n",
       "      <td>ATN261668711</td>\n",
       "      <td>[FOLKMETAL, METAL]</td>\n",
       "      <td>237010.0</td>\n",
       "    </tr>\n",
       "    <tr>\n",
       "      <th>51053</th>\n",
       "      <td>aa4a1d4d44890cbc7aae285842bd3ce2</td>\n",
       "      <td>1.553893e+12</td>\n",
       "      <td>Nattfödd</td>\n",
       "      <td>EN</td>\n",
       "      <td>ATN261668712</td>\n",
       "      <td>[FOLKMETAL, METAL]</td>\n",
       "      <td>255320.0</td>\n",
       "    </tr>\n",
       "    <tr>\n",
       "      <th>...</th>\n",
       "      <td>...</td>\n",
       "      <td>...</td>\n",
       "      <td>...</td>\n",
       "      <td>...</td>\n",
       "      <td>...</td>\n",
       "      <td>...</td>\n",
       "      <td>...</td>\n",
       "    </tr>\n",
       "    <tr>\n",
       "      <th>42673</th>\n",
       "      <td>9ca51834e2b6a7266ebcb10cf9a00409</td>\n",
       "      <td>1.411474e+12</td>\n",
       "      <td>How Far We've Come</td>\n",
       "      <td>None</td>\n",
       "      <td>USTCF1018560</td>\n",
       "      <td>[ROCK, ALLROCK]</td>\n",
       "      <td>200820.0</td>\n",
       "    </tr>\n",
       "    <tr>\n",
       "      <th>42671</th>\n",
       "      <td>2e04e2ca902c24028b3a7bcded51deeb</td>\n",
       "      <td>1.411474e+12</td>\n",
       "      <td>Angel</td>\n",
       "      <td>None</td>\n",
       "      <td>USTCF1018563</td>\n",
       "      <td>[ROCK, ALLROCK]</td>\n",
       "      <td>261490.0</td>\n",
       "    </tr>\n",
       "    <tr>\n",
       "      <th>67314</th>\n",
       "      <td>7eb1ce7b0e7ce4c053c1c9af0ebd9634</td>\n",
       "      <td>1.541702e+12</td>\n",
       "      <td>Angel (2009)</td>\n",
       "      <td>EN</td>\n",
       "      <td>USTCF1018563</td>\n",
       "      <td>[ROCK, ALLROCK]</td>\n",
       "      <td>261450.0</td>\n",
       "    </tr>\n",
       "    <tr>\n",
       "      <th>67315</th>\n",
       "      <td>90117fc7a8a5ef80c4d3e1e6e39b4f06</td>\n",
       "      <td>1.541702e+12</td>\n",
       "      <td>Breathe (2009)</td>\n",
       "      <td>EN</td>\n",
       "      <td>USTCF1018565</td>\n",
       "      <td>[ROCK, ALLROCK]</td>\n",
       "      <td>221970.0</td>\n",
       "    </tr>\n",
       "    <tr>\n",
       "      <th>42675</th>\n",
       "      <td>734cfd17d9b91ed5e6040aeef988d8cc</td>\n",
       "      <td>1.411474e+12</td>\n",
       "      <td>Breathe</td>\n",
       "      <td>None</td>\n",
       "      <td>USTCF1018565</td>\n",
       "      <td>[ROCK, ALLROCK]</td>\n",
       "      <td>222010.0</td>\n",
       "    </tr>\n",
       "  </tbody>\n",
       "</table>\n",
       "<p>292 rows × 7 columns</p>\n",
       "</div>"
      ],
      "text/plain": [
       "                               track_id          dttm  \\\n",
       "27012  be0233f57dbb59079929ac646b0b9d5c  1.625590e+12   \n",
       "26955  8aff9d28865aaf1fa44e46b82cba0f63  1.625586e+12   \n",
       "51052  196a0973d73122891a426f8334105ce7  1.553893e+12   \n",
       "66395  425761c88ebc69e89c748eb537671953  1.524943e+12   \n",
       "51053  aa4a1d4d44890cbc7aae285842bd3ce2  1.553893e+12   \n",
       "...                                 ...           ...   \n",
       "42673  9ca51834e2b6a7266ebcb10cf9a00409  1.411474e+12   \n",
       "42671  2e04e2ca902c24028b3a7bcded51deeb  1.411474e+12   \n",
       "67314  7eb1ce7b0e7ce4c053c1c9af0ebd9634  1.541702e+12   \n",
       "67315  90117fc7a8a5ef80c4d3e1e6e39b4f06  1.541702e+12   \n",
       "42675  734cfd17d9b91ed5e6040aeef988d8cc  1.411474e+12   \n",
       "\n",
       "                              title language          isrc  \\\n",
       "27012         Zivot da stane ne sme     None  ATAJ12100470   \n",
       "26955                         Burma     None  ATAJ12100470   \n",
       "51052  Inní mér syngur vitleysingur       EN  ATN261668711   \n",
       "66395  Inni Mer Syngur Vitleysingur     None  ATN261668711   \n",
       "51053                      Nattfödd       EN  ATN261668712   \n",
       "...                             ...      ...           ...   \n",
       "42673            How Far We've Come     None  USTCF1018560   \n",
       "42671                         Angel     None  USTCF1018563   \n",
       "67314                  Angel (2009)       EN  USTCF1018563   \n",
       "67315                Breathe (2009)       EN  USTCF1018565   \n",
       "42675                       Breathe     None  USTCF1018565   \n",
       "\n",
       "                   genres  duration  \n",
       "27012              [FOLK]  151190.0  \n",
       "26955              [FOLK]  179300.0  \n",
       "51052  [FOLKMETAL, METAL]  237010.0  \n",
       "66395  [FOLKMETAL, METAL]  237010.0  \n",
       "51053  [FOLKMETAL, METAL]  255320.0  \n",
       "...                   ...       ...  \n",
       "42673     [ROCK, ALLROCK]  200820.0  \n",
       "42671     [ROCK, ALLROCK]  261490.0  \n",
       "67314     [ROCK, ALLROCK]  261450.0  \n",
       "67315     [ROCK, ALLROCK]  221970.0  \n",
       "42675     [ROCK, ALLROCK]  222010.0  \n",
       "\n",
       "[292 rows x 7 columns]"
      ]
     },
     "execution_count": 327,
     "metadata": {},
     "output_type": "execute_result"
    }
   ],
   "source": [
    "meta[meta['isrc'].duplicated(keep=False) & meta['isrc'].notna() & meta['duration'] > 0].sort_values(by='isrc')"
   ]
  },
  {
   "cell_type": "code",
   "execution_count": 328,
   "id": "6034c695",
   "metadata": {},
   "outputs": [
    {
     "data": {
      "text/html": [
       "<div>\n",
       "<style scoped>\n",
       "    .dataframe tbody tr th:only-of-type {\n",
       "        vertical-align: middle;\n",
       "    }\n",
       "\n",
       "    .dataframe tbody tr th {\n",
       "        vertical-align: top;\n",
       "    }\n",
       "\n",
       "    .dataframe thead th {\n",
       "        text-align: right;\n",
       "    }\n",
       "</style>\n",
       "<table border=\"1\" class=\"dataframe\">\n",
       "  <thead>\n",
       "    <tr style=\"text-align: right;\">\n",
       "      <th></th>\n",
       "      <th>track_id</th>\n",
       "      <th>dttm</th>\n",
       "      <th>title</th>\n",
       "      <th>language</th>\n",
       "      <th>isrc</th>\n",
       "      <th>genres</th>\n",
       "      <th>duration</th>\n",
       "    </tr>\n",
       "  </thead>\n",
       "  <tbody>\n",
       "    <tr>\n",
       "      <th>266</th>\n",
       "      <td>4c7c6727575bb1572f4c326090fd365d</td>\n",
       "      <td>1.638194e+12</td>\n",
       "      <td>A Través del Vaso</td>\n",
       "      <td>None</td>\n",
       "      <td>QZNJZ2184037</td>\n",
       "      <td>[FOLK, LATINFOLK]</td>\n",
       "      <td>0.0</td>\n",
       "    </tr>\n",
       "    <tr>\n",
       "      <th>267</th>\n",
       "      <td>0817441e7fb91e86edbd0e2abe429987</td>\n",
       "      <td>1.638194e+12</td>\n",
       "      <td>Entra en Mi Vida</td>\n",
       "      <td>None</td>\n",
       "      <td>QZNJZ2184038</td>\n",
       "      <td>[FOLK, LATINFOLK]</td>\n",
       "      <td>0.0</td>\n",
       "    </tr>\n",
       "    <tr>\n",
       "      <th>268</th>\n",
       "      <td>900bb2cd2d4cfb52675c2dcac6a97a0e</td>\n",
       "      <td>1.638194e+12</td>\n",
       "      <td>Mi Meta Contigo</td>\n",
       "      <td>None</td>\n",
       "      <td>QZNJZ2184039</td>\n",
       "      <td>[FOLK, LATINFOLK]</td>\n",
       "      <td>0.0</td>\n",
       "    </tr>\n",
       "    <tr>\n",
       "      <th>269</th>\n",
       "      <td>603cbedbd688531b9c8ab0446debcd1d</td>\n",
       "      <td>1.638194e+12</td>\n",
       "      <td>Mujeres Divinas</td>\n",
       "      <td>None</td>\n",
       "      <td>QZNJZ2184040</td>\n",
       "      <td>[FOLK, LATINFOLK]</td>\n",
       "      <td>0.0</td>\n",
       "    </tr>\n",
       "    <tr>\n",
       "      <th>270</th>\n",
       "      <td>35fdcfcb577453a73494781f4f52824d</td>\n",
       "      <td>1.638194e+12</td>\n",
       "      <td>Para Qué Lastimarme</td>\n",
       "      <td>None</td>\n",
       "      <td>QZNJZ2184041</td>\n",
       "      <td>[FOLK, LATINFOLK]</td>\n",
       "      <td>0.0</td>\n",
       "    </tr>\n",
       "    <tr>\n",
       "      <th>...</th>\n",
       "      <td>...</td>\n",
       "      <td>...</td>\n",
       "      <td>...</td>\n",
       "      <td>...</td>\n",
       "      <td>...</td>\n",
       "      <td>...</td>\n",
       "      <td>...</td>\n",
       "    </tr>\n",
       "    <tr>\n",
       "      <th>68937</th>\n",
       "      <td>e805eb7d58006a5da85b2e891a423815</td>\n",
       "      <td>1.550073e+12</td>\n",
       "      <td>Lie</td>\n",
       "      <td>None</td>\n",
       "      <td>GBMA21887386</td>\n",
       "      <td>[RAP]</td>\n",
       "      <td>0.0</td>\n",
       "    </tr>\n",
       "    <tr>\n",
       "      <th>68938</th>\n",
       "      <td>5d405f6e0c0605ab5abedc20bfb12b20</td>\n",
       "      <td>1.550073e+12</td>\n",
       "      <td>Mind Sex</td>\n",
       "      <td>None</td>\n",
       "      <td>GBMA21887431</td>\n",
       "      <td>[RAP]</td>\n",
       "      <td>0.0</td>\n",
       "    </tr>\n",
       "    <tr>\n",
       "      <th>70278</th>\n",
       "      <td>4776f168e2201dfd32d6e00add694c42</td>\n",
       "      <td>1.554181e+12</td>\n",
       "      <td>Societas Satanas</td>\n",
       "      <td>None</td>\n",
       "      <td>FR33T0819525</td>\n",
       "      <td>[METAL, BLACKMETAL]</td>\n",
       "      <td>0.0</td>\n",
       "    </tr>\n",
       "    <tr>\n",
       "      <th>70967</th>\n",
       "      <td>1281b73dcf86f6fc9d2530a072ff9037</td>\n",
       "      <td>1.555988e+12</td>\n",
       "      <td>Vai Ter Que Rebolar</td>\n",
       "      <td>None</td>\n",
       "      <td>QZGLS1939861</td>\n",
       "      <td>[FOLK, LATINFOLK]</td>\n",
       "      <td>0.0</td>\n",
       "    </tr>\n",
       "    <tr>\n",
       "      <th>71341</th>\n",
       "      <td>d165c5035ed2c0146ac98fdea8a46f61</td>\n",
       "      <td>1.557727e+12</td>\n",
       "      <td>Evil Dead</td>\n",
       "      <td>None</td>\n",
       "      <td>DED830901008</td>\n",
       "      <td>[METAL, DEATHMETAL]</td>\n",
       "      <td>0.0</td>\n",
       "    </tr>\n",
       "  </tbody>\n",
       "</table>\n",
       "<p>369 rows × 7 columns</p>\n",
       "</div>"
      ],
      "text/plain": [
       "                               track_id          dttm                title  \\\n",
       "266    4c7c6727575bb1572f4c326090fd365d  1.638194e+12    A Través del Vaso   \n",
       "267    0817441e7fb91e86edbd0e2abe429987  1.638194e+12     Entra en Mi Vida   \n",
       "268    900bb2cd2d4cfb52675c2dcac6a97a0e  1.638194e+12      Mi Meta Contigo   \n",
       "269    603cbedbd688531b9c8ab0446debcd1d  1.638194e+12      Mujeres Divinas   \n",
       "270    35fdcfcb577453a73494781f4f52824d  1.638194e+12  Para Qué Lastimarme   \n",
       "...                                 ...           ...                  ...   \n",
       "68937  e805eb7d58006a5da85b2e891a423815  1.550073e+12                  Lie   \n",
       "68938  5d405f6e0c0605ab5abedc20bfb12b20  1.550073e+12             Mind Sex   \n",
       "70278  4776f168e2201dfd32d6e00add694c42  1.554181e+12     Societas Satanas   \n",
       "70967  1281b73dcf86f6fc9d2530a072ff9037  1.555988e+12  Vai Ter Que Rebolar   \n",
       "71341  d165c5035ed2c0146ac98fdea8a46f61  1.557727e+12            Evil Dead   \n",
       "\n",
       "      language          isrc               genres  duration  \n",
       "266       None  QZNJZ2184037    [FOLK, LATINFOLK]       0.0  \n",
       "267       None  QZNJZ2184038    [FOLK, LATINFOLK]       0.0  \n",
       "268       None  QZNJZ2184039    [FOLK, LATINFOLK]       0.0  \n",
       "269       None  QZNJZ2184040    [FOLK, LATINFOLK]       0.0  \n",
       "270       None  QZNJZ2184041    [FOLK, LATINFOLK]       0.0  \n",
       "...        ...           ...                  ...       ...  \n",
       "68937     None  GBMA21887386                [RAP]       0.0  \n",
       "68938     None  GBMA21887431                [RAP]       0.0  \n",
       "70278     None  FR33T0819525  [METAL, BLACKMETAL]       0.0  \n",
       "70967     None  QZGLS1939861    [FOLK, LATINFOLK]       0.0  \n",
       "71341     None  DED830901008  [METAL, DEATHMETAL]       0.0  \n",
       "\n",
       "[369 rows x 7 columns]"
      ]
     },
     "execution_count": 328,
     "metadata": {},
     "output_type": "execute_result"
    }
   ],
   "source": [
    "meta[meta['duration'] == 0]"
   ]
  },
  {
   "cell_type": "code",
   "execution_count": 329,
   "id": "a857d683",
   "metadata": {
    "scrolled": true
   },
   "outputs": [
    {
     "name": "stdout",
     "output_type": "stream",
     "text": [
      "<class 'pandas.core.frame.DataFrame'>\n",
      "RangeIndex: 71769 entries, 0 to 71768\n",
      "Data columns (total 7 columns):\n",
      " #   Column    Non-Null Count  Dtype  \n",
      "---  ------    --------------  -----  \n",
      " 0   track_id  71768 non-null  object \n",
      " 1   dttm      71768 non-null  float64\n",
      " 2   title     71768 non-null  object \n",
      " 3   language  21969 non-null  object \n",
      " 4   isrc      71455 non-null  object \n",
      " 5   genres    71768 non-null  object \n",
      " 6   duration  71768 non-null  float64\n",
      "dtypes: float64(2), object(5)\n",
      "memory usage: 3.8+ MB\n"
     ]
    }
   ],
   "source": [
    "meta.info()"
   ]
  },
  {
   "cell_type": "code",
   "execution_count": 330,
   "id": "25dfbaa3",
   "metadata": {},
   "outputs": [
    {
     "data": {
      "text/plain": [
       "85"
      ]
     },
     "execution_count": 330,
     "metadata": {},
     "output_type": "execute_result"
    }
   ],
   "source": [
    "meta['language'].nunique()"
   ]
  },
  {
   "cell_type": "code",
   "execution_count": 331,
   "id": "b87afc5c",
   "metadata": {},
   "outputs": [
    {
     "data": {
      "text/plain": [
       "45462"
      ]
     },
     "execution_count": 331,
     "metadata": {},
     "output_type": "execute_result"
    }
   ],
   "source": [
    "meta['title'].nunique()"
   ]
  },
  {
   "cell_type": "code",
   "execution_count": 318,
   "id": "cfb713fe",
   "metadata": {},
   "outputs": [
    {
     "data": {
      "text/plain": [
       "71283"
      ]
     },
     "execution_count": 318,
     "metadata": {},
     "output_type": "execute_result"
    }
   ],
   "source": [
    "meta['isrc'].nunique() # минус пропущенные, получается 172 дублируются"
   ]
  },
  {
   "cell_type": "code",
   "execution_count": 335,
   "id": "81961f3c",
   "metadata": {},
   "outputs": [],
   "source": [
    "meta = meta.dropna(subset='track_id').reset_index(drop=True)"
   ]
  },
  {
   "cell_type": "code",
   "execution_count": 336,
   "id": "a7bf0e5b",
   "metadata": {},
   "outputs": [
    {
     "data": {
      "text/plain": [
       "track_id        0\n",
       "dttm            0\n",
       "title           0\n",
       "language    49799\n",
       "isrc          313\n",
       "genres          0\n",
       "duration        0\n",
       "dtype: int64"
      ]
     },
     "execution_count": 336,
     "metadata": {},
     "output_type": "execute_result"
    }
   ],
   "source": [
    "meta.isna().sum()"
   ]
  },
  {
   "cell_type": "code",
   "execution_count": 337,
   "id": "4334c1d9",
   "metadata": {},
   "outputs": [],
   "source": [
    "for index in range(len(meta)):\n",
    "    meta.loc[index, 'genres'] = ', '.join(meta.loc[index, 'genres'])"
   ]
  },
  {
   "cell_type": "code",
   "execution_count": 338,
   "id": "3fa1c3e3",
   "metadata": {},
   "outputs": [
    {
     "data": {
      "text/html": [
       "<div>\n",
       "<style scoped>\n",
       "    .dataframe tbody tr th:only-of-type {\n",
       "        vertical-align: middle;\n",
       "    }\n",
       "\n",
       "    .dataframe tbody tr th {\n",
       "        vertical-align: top;\n",
       "    }\n",
       "\n",
       "    .dataframe thead th {\n",
       "        text-align: right;\n",
       "    }\n",
       "</style>\n",
       "<table border=\"1\" class=\"dataframe\">\n",
       "  <thead>\n",
       "    <tr style=\"text-align: right;\">\n",
       "      <th></th>\n",
       "      <th>track_id</th>\n",
       "      <th>dttm</th>\n",
       "      <th>title</th>\n",
       "      <th>language</th>\n",
       "      <th>isrc</th>\n",
       "      <th>genres</th>\n",
       "      <th>duration</th>\n",
       "    </tr>\n",
       "  </thead>\n",
       "  <tbody>\n",
       "    <tr>\n",
       "      <th>2151</th>\n",
       "      <td>16645e5e127d29b8bbbea6375a9344e2</td>\n",
       "      <td>1.640293e+12</td>\n",
       "      <td>Глава 4. Урок рисования</td>\n",
       "      <td>None</td>\n",
       "      <td>None</td>\n",
       "      <td>FAIRYTALES</td>\n",
       "      <td>559040.0</td>\n",
       "    </tr>\n",
       "    <tr>\n",
       "      <th>2185</th>\n",
       "      <td>96f75d124808c84d823f09add1b6855c</td>\n",
       "      <td>1.640250e+12</td>\n",
       "      <td>Чижик-пыжик (А. Пинегин — А. Усачев)</td>\n",
       "      <td>None</td>\n",
       "      <td>None</td>\n",
       "      <td>FORCHILDREN</td>\n",
       "      <td>144560.0</td>\n",
       "    </tr>\n",
       "    <tr>\n",
       "      <th>2238</th>\n",
       "      <td>77bf68f7657ba9f87ee6ae7af3dc8999</td>\n",
       "      <td>1.640272e+12</td>\n",
       "      <td>Повторение счёта до 12</td>\n",
       "      <td>None</td>\n",
       "      <td>None</td>\n",
       "      <td>FORCHILDREN</td>\n",
       "      <td>97720.0</td>\n",
       "    </tr>\n",
       "    <tr>\n",
       "      <th>2317</th>\n",
       "      <td>fb97e639240fb249756b40e0f88387cb</td>\n",
       "      <td>1.640334e+12</td>\n",
       "      <td>Глава 12. Пятно</td>\n",
       "      <td>None</td>\n",
       "      <td>None</td>\n",
       "      <td>FAIRYTALES</td>\n",
       "      <td>103280.0</td>\n",
       "    </tr>\n",
       "    <tr>\n",
       "      <th>3838</th>\n",
       "      <td>be76b11b186c8f8a6afb34a23f64b132</td>\n",
       "      <td>1.642680e+12</td>\n",
       "      <td>Americano</td>\n",
       "      <td>None</td>\n",
       "      <td>None</td>\n",
       "      <td></td>\n",
       "      <td>225800.0</td>\n",
       "    </tr>\n",
       "    <tr>\n",
       "      <th>...</th>\n",
       "      <td>...</td>\n",
       "      <td>...</td>\n",
       "      <td>...</td>\n",
       "      <td>...</td>\n",
       "      <td>...</td>\n",
       "      <td>...</td>\n",
       "      <td>...</td>\n",
       "    </tr>\n",
       "    <tr>\n",
       "      <th>71702</th>\n",
       "      <td>fefdb000f83cc54a6cd15cd330e94804</td>\n",
       "      <td>1.559822e+12</td>\n",
       "      <td>Buona Sera Ciao Ciao</td>\n",
       "      <td>None</td>\n",
       "      <td>None</td>\n",
       "      <td>POP</td>\n",
       "      <td>222300.0</td>\n",
       "    </tr>\n",
       "    <tr>\n",
       "      <th>71703</th>\n",
       "      <td>bb7c35e220d721f5271f00993b65c150</td>\n",
       "      <td>1.559822e+12</td>\n",
       "      <td>Eray</td>\n",
       "      <td>None</td>\n",
       "      <td>None</td>\n",
       "      <td>POP</td>\n",
       "      <td>249880.0</td>\n",
       "    </tr>\n",
       "    <tr>\n",
       "      <th>71704</th>\n",
       "      <td>85ae0838be340db39deda0c04f3898bb</td>\n",
       "      <td>1.559822e+12</td>\n",
       "      <td>My Heart Will Go On</td>\n",
       "      <td>None</td>\n",
       "      <td>None</td>\n",
       "      <td>POP</td>\n",
       "      <td>286410.0</td>\n",
       "    </tr>\n",
       "    <tr>\n",
       "      <th>71705</th>\n",
       "      <td>f3ce217d8dc57c625002748b79dba088</td>\n",
       "      <td>1.559822e+12</td>\n",
       "      <td>What is Love</td>\n",
       "      <td>None</td>\n",
       "      <td>None</td>\n",
       "      <td>POP</td>\n",
       "      <td>309050.0</td>\n",
       "    </tr>\n",
       "    <tr>\n",
       "      <th>71706</th>\n",
       "      <td>b7b129d35cb8bdf149aad2f0ebbbad5d</td>\n",
       "      <td>1.559822e+12</td>\n",
       "      <td>Сильные люди</td>\n",
       "      <td>None</td>\n",
       "      <td>None</td>\n",
       "      <td>POP</td>\n",
       "      <td>207540.0</td>\n",
       "    </tr>\n",
       "  </tbody>\n",
       "</table>\n",
       "<p>313 rows × 7 columns</p>\n",
       "</div>"
      ],
      "text/plain": [
       "                               track_id          dttm  \\\n",
       "2151   16645e5e127d29b8bbbea6375a9344e2  1.640293e+12   \n",
       "2185   96f75d124808c84d823f09add1b6855c  1.640250e+12   \n",
       "2238   77bf68f7657ba9f87ee6ae7af3dc8999  1.640272e+12   \n",
       "2317   fb97e639240fb249756b40e0f88387cb  1.640334e+12   \n",
       "3838   be76b11b186c8f8a6afb34a23f64b132  1.642680e+12   \n",
       "...                                 ...           ...   \n",
       "71702  fefdb000f83cc54a6cd15cd330e94804  1.559822e+12   \n",
       "71703  bb7c35e220d721f5271f00993b65c150  1.559822e+12   \n",
       "71704  85ae0838be340db39deda0c04f3898bb  1.559822e+12   \n",
       "71705  f3ce217d8dc57c625002748b79dba088  1.559822e+12   \n",
       "71706  b7b129d35cb8bdf149aad2f0ebbbad5d  1.559822e+12   \n",
       "\n",
       "                                      title language  isrc       genres  \\\n",
       "2151                Глава 4. Урок рисования     None  None   FAIRYTALES   \n",
       "2185   Чижик-пыжик (А. Пинегин — А. Усачев)     None  None  FORCHILDREN   \n",
       "2238                 Повторение счёта до 12     None  None  FORCHILDREN   \n",
       "2317                        Глава 12. Пятно     None  None   FAIRYTALES   \n",
       "3838                              Americano     None  None                \n",
       "...                                     ...      ...   ...          ...   \n",
       "71702                  Buona Sera Ciao Ciao     None  None          POP   \n",
       "71703                                  Eray     None  None          POP   \n",
       "71704                   My Heart Will Go On     None  None          POP   \n",
       "71705                          What is Love     None  None          POP   \n",
       "71706                          Сильные люди     None  None          POP   \n",
       "\n",
       "       duration  \n",
       "2151   559040.0  \n",
       "2185   144560.0  \n",
       "2238    97720.0  \n",
       "2317   103280.0  \n",
       "3838   225800.0  \n",
       "...         ...  \n",
       "71702  222300.0  \n",
       "71703  249880.0  \n",
       "71704  286410.0  \n",
       "71705  309050.0  \n",
       "71706  207540.0  \n",
       "\n",
       "[313 rows x 7 columns]"
      ]
     },
     "execution_count": 338,
     "metadata": {},
     "output_type": "execute_result"
    }
   ],
   "source": [
    "meta[meta['isrc'].isna() == True]"
   ]
  },
  {
   "cell_type": "code",
   "execution_count": 497,
   "id": "78f3caa6",
   "metadata": {},
   "outputs": [],
   "source": [
    "data = covers.merge(lyrics, on='track_id', how='left')\n",
    "data = data.merge(meta, on='track_id', how='left')"
   ]
  },
  {
   "cell_type": "code",
   "execution_count": 498,
   "id": "0beefff5",
   "metadata": {
    "scrolled": true
   },
   "outputs": [
    {
     "data": {
      "text/html": [
       "<div>\n",
       "<style scoped>\n",
       "    .dataframe tbody tr th:only-of-type {\n",
       "        vertical-align: middle;\n",
       "    }\n",
       "\n",
       "    .dataframe tbody tr th {\n",
       "        vertical-align: top;\n",
       "    }\n",
       "\n",
       "    .dataframe thead th {\n",
       "        text-align: right;\n",
       "    }\n",
       "</style>\n",
       "<table border=\"1\" class=\"dataframe\">\n",
       "  <thead>\n",
       "    <tr style=\"text-align: right;\">\n",
       "      <th></th>\n",
       "      <th>original_track_id</th>\n",
       "      <th>track_id</th>\n",
       "      <th>track_remake_type</th>\n",
       "      <th>lyricId</th>\n",
       "      <th>text</th>\n",
       "      <th>dttm</th>\n",
       "      <th>title</th>\n",
       "      <th>language</th>\n",
       "      <th>isrc</th>\n",
       "      <th>genres</th>\n",
       "      <th>duration</th>\n",
       "    </tr>\n",
       "  </thead>\n",
       "  <tbody>\n",
       "    <tr>\n",
       "      <th>0</th>\n",
       "      <td>eeb69a3cb92300456b6a5f4162093851</td>\n",
       "      <td>eeb69a3cb92300456b6a5f4162093851</td>\n",
       "      <td>ORIGINAL</td>\n",
       "      <td>260f21d9f48e8de874a6e844159ddf28</td>\n",
       "      <td>Left a good job in the city\\nWorkin' for the m...</td>\n",
       "      <td>1.257973e+12</td>\n",
       "      <td>Proud Mary</td>\n",
       "      <td>EN</td>\n",
       "      <td>USFI86900049</td>\n",
       "      <td>ROCK, ALLROCK</td>\n",
       "      <td>187220.0</td>\n",
       "    </tr>\n",
       "    <tr>\n",
       "      <th>1</th>\n",
       "      <td>eeb69a3cb92300456b6a5f4162093851</td>\n",
       "      <td>eeb69a3cb92300456b6a5f4162093851</td>\n",
       "      <td>ORIGINAL</td>\n",
       "      <td>f3331cf99637ee24559242d13d8cf259</td>\n",
       "      <td>Left a good job in the city\\nWorkin' for the m...</td>\n",
       "      <td>1.257973e+12</td>\n",
       "      <td>Proud Mary</td>\n",
       "      <td>EN</td>\n",
       "      <td>USFI86900049</td>\n",
       "      <td>ROCK, ALLROCK</td>\n",
       "      <td>187220.0</td>\n",
       "    </tr>\n",
       "    <tr>\n",
       "      <th>2</th>\n",
       "      <td>fe7ee8fc1959cc7214fa21c4840dff0a</td>\n",
       "      <td>fe7ee8fc1959cc7214fa21c4840dff0a</td>\n",
       "      <td>ORIGINAL</td>\n",
       "      <td>2498827bd11eca5846270487e4960080</td>\n",
       "      <td>Some folks are born made to wave the flag\\nOoh...</td>\n",
       "      <td>1.257973e+12</td>\n",
       "      <td>Fortunate Son</td>\n",
       "      <td>EN</td>\n",
       "      <td>USFI86900065</td>\n",
       "      <td>ROCK, ALLROCK</td>\n",
       "      <td>137780.0</td>\n",
       "    </tr>\n",
       "    <tr>\n",
       "      <th>3</th>\n",
       "      <td>cd89fef7ffdd490db800357f47722b20</td>\n",
       "      <td>cd89fef7ffdd490db800357f47722b20</td>\n",
       "      <td>ORIGINAL</td>\n",
       "      <td>5237001311d4062bf2b80de30652bf58</td>\n",
       "      <td>Uno por pobre y feo, hombre\\nPero antoja'o, ay...</td>\n",
       "      <td>1.253563e+12</td>\n",
       "      <td>La Camisa Negra</td>\n",
       "      <td>ES</td>\n",
       "      <td>USUL10400965</td>\n",
       "      <td>POP, FOLK, LATINFOLK</td>\n",
       "      <td>216840.0</td>\n",
       "    </tr>\n",
       "    <tr>\n",
       "      <th>4</th>\n",
       "      <td>995665640dc319973d3173a74a03860c</td>\n",
       "      <td>995665640dc319973d3173a74a03860c</td>\n",
       "      <td>ORIGINAL</td>\n",
       "      <td>e5b1b57090b728e8d98d2b4d9b781bf4</td>\n",
       "      <td>Yeah!... yeah!... remember the time, baby... y...</td>\n",
       "      <td>1.258405e+12</td>\n",
       "      <td>The Way I Are</td>\n",
       "      <td>EN</td>\n",
       "      <td>USUM70722806</td>\n",
       "      <td>FOREIGNRAP, RAP</td>\n",
       "      <td>179660.0</td>\n",
       "    </tr>\n",
       "    <tr>\n",
       "      <th>...</th>\n",
       "      <td>...</td>\n",
       "      <td>...</td>\n",
       "      <td>...</td>\n",
       "      <td>...</td>\n",
       "      <td>...</td>\n",
       "      <td>...</td>\n",
       "      <td>...</td>\n",
       "      <td>...</td>\n",
       "      <td>...</td>\n",
       "      <td>...</td>\n",
       "      <td>...</td>\n",
       "    </tr>\n",
       "    <tr>\n",
       "      <th>72344</th>\n",
       "      <td>4788e0bf61d80ef5ec9380aa8a8119d9</td>\n",
       "      <td>4788e0bf61d80ef5ec9380aa8a8119d9</td>\n",
       "      <td>ORIGINAL</td>\n",
       "      <td>NaN</td>\n",
       "      <td>NaN</td>\n",
       "      <td>1.695935e+12</td>\n",
       "      <td>Милый, прощай</td>\n",
       "      <td>None</td>\n",
       "      <td>RUAGT2312928</td>\n",
       "      <td>POP, RUSPOP</td>\n",
       "      <td>178980.0</td>\n",
       "    </tr>\n",
       "    <tr>\n",
       "      <th>72345</th>\n",
       "      <td>None</td>\n",
       "      <td>78b2db35476f134dc3cdfbf4d77ba034</td>\n",
       "      <td>COVER</td>\n",
       "      <td>NaN</td>\n",
       "      <td>NaN</td>\n",
       "      <td>1.696169e+12</td>\n",
       "      <td>Habits (Stay Hight)</td>\n",
       "      <td>EN</td>\n",
       "      <td>TCAHK2396284</td>\n",
       "      <td>ELECTRONICS</td>\n",
       "      <td>149570.0</td>\n",
       "    </tr>\n",
       "    <tr>\n",
       "      <th>72346</th>\n",
       "      <td>None</td>\n",
       "      <td>e720ff378efe032df56e0e656a6a92d3</td>\n",
       "      <td>COVER</td>\n",
       "      <td>NaN</td>\n",
       "      <td>NaN</td>\n",
       "      <td>1.696540e+12</td>\n",
       "      <td>Arcade</td>\n",
       "      <td>EN</td>\n",
       "      <td>TCAHM2318975</td>\n",
       "      <td>FOREIGNBARD, BARD</td>\n",
       "      <td>201580.0</td>\n",
       "    </tr>\n",
       "    <tr>\n",
       "      <th>72347</th>\n",
       "      <td>554e33d79e258da91149c3a4985cf6a1</td>\n",
       "      <td>554e33d79e258da91149c3a4985cf6a1</td>\n",
       "      <td>ORIGINAL</td>\n",
       "      <td>NaN</td>\n",
       "      <td>NaN</td>\n",
       "      <td>1.696540e+12</td>\n",
       "      <td>Май</td>\n",
       "      <td>None</td>\n",
       "      <td>SMRUS0076417</td>\n",
       "      <td>RUSRAP, RAP</td>\n",
       "      <td>156870.0</td>\n",
       "    </tr>\n",
       "    <tr>\n",
       "      <th>72348</th>\n",
       "      <td>7b0f6ff24137be50cf5ea5f82d789448</td>\n",
       "      <td>7b0f6ff24137be50cf5ea5f82d789448</td>\n",
       "      <td>ORIGINAL</td>\n",
       "      <td>NaN</td>\n",
       "      <td>NaN</td>\n",
       "      <td>1.696540e+12</td>\n",
       "      <td>Не улетай</td>\n",
       "      <td>None</td>\n",
       "      <td>DGA0M2316512</td>\n",
       "      <td>POP, RUSPOP</td>\n",
       "      <td>148500.0</td>\n",
       "    </tr>\n",
       "  </tbody>\n",
       "</table>\n",
       "<p>72349 rows × 11 columns</p>\n",
       "</div>"
      ],
      "text/plain": [
       "                      original_track_id                          track_id  \\\n",
       "0      eeb69a3cb92300456b6a5f4162093851  eeb69a3cb92300456b6a5f4162093851   \n",
       "1      eeb69a3cb92300456b6a5f4162093851  eeb69a3cb92300456b6a5f4162093851   \n",
       "2      fe7ee8fc1959cc7214fa21c4840dff0a  fe7ee8fc1959cc7214fa21c4840dff0a   \n",
       "3      cd89fef7ffdd490db800357f47722b20  cd89fef7ffdd490db800357f47722b20   \n",
       "4      995665640dc319973d3173a74a03860c  995665640dc319973d3173a74a03860c   \n",
       "...                                 ...                               ...   \n",
       "72344  4788e0bf61d80ef5ec9380aa8a8119d9  4788e0bf61d80ef5ec9380aa8a8119d9   \n",
       "72345                              None  78b2db35476f134dc3cdfbf4d77ba034   \n",
       "72346                              None  e720ff378efe032df56e0e656a6a92d3   \n",
       "72347  554e33d79e258da91149c3a4985cf6a1  554e33d79e258da91149c3a4985cf6a1   \n",
       "72348  7b0f6ff24137be50cf5ea5f82d789448  7b0f6ff24137be50cf5ea5f82d789448   \n",
       "\n",
       "      track_remake_type                           lyricId  \\\n",
       "0              ORIGINAL  260f21d9f48e8de874a6e844159ddf28   \n",
       "1              ORIGINAL  f3331cf99637ee24559242d13d8cf259   \n",
       "2              ORIGINAL  2498827bd11eca5846270487e4960080   \n",
       "3              ORIGINAL  5237001311d4062bf2b80de30652bf58   \n",
       "4              ORIGINAL  e5b1b57090b728e8d98d2b4d9b781bf4   \n",
       "...                 ...                               ...   \n",
       "72344          ORIGINAL                               NaN   \n",
       "72345             COVER                               NaN   \n",
       "72346             COVER                               NaN   \n",
       "72347          ORIGINAL                               NaN   \n",
       "72348          ORIGINAL                               NaN   \n",
       "\n",
       "                                                    text          dttm  \\\n",
       "0      Left a good job in the city\\nWorkin' for the m...  1.257973e+12   \n",
       "1      Left a good job in the city\\nWorkin' for the m...  1.257973e+12   \n",
       "2      Some folks are born made to wave the flag\\nOoh...  1.257973e+12   \n",
       "3      Uno por pobre y feo, hombre\\nPero antoja'o, ay...  1.253563e+12   \n",
       "4      Yeah!... yeah!... remember the time, baby... y...  1.258405e+12   \n",
       "...                                                  ...           ...   \n",
       "72344                                                NaN  1.695935e+12   \n",
       "72345                                                NaN  1.696169e+12   \n",
       "72346                                                NaN  1.696540e+12   \n",
       "72347                                                NaN  1.696540e+12   \n",
       "72348                                                NaN  1.696540e+12   \n",
       "\n",
       "                     title language          isrc                genres  \\\n",
       "0               Proud Mary       EN  USFI86900049         ROCK, ALLROCK   \n",
       "1               Proud Mary       EN  USFI86900049         ROCK, ALLROCK   \n",
       "2            Fortunate Son       EN  USFI86900065         ROCK, ALLROCK   \n",
       "3          La Camisa Negra       ES  USUL10400965  POP, FOLK, LATINFOLK   \n",
       "4            The Way I Are       EN  USUM70722806       FOREIGNRAP, RAP   \n",
       "...                    ...      ...           ...                   ...   \n",
       "72344        Милый, прощай     None  RUAGT2312928           POP, RUSPOP   \n",
       "72345  Habits (Stay Hight)       EN  TCAHK2396284           ELECTRONICS   \n",
       "72346               Arcade       EN  TCAHM2318975     FOREIGNBARD, BARD   \n",
       "72347                  Май     None  SMRUS0076417           RUSRAP, RAP   \n",
       "72348            Не улетай     None  DGA0M2316512           POP, RUSPOP   \n",
       "\n",
       "       duration  \n",
       "0      187220.0  \n",
       "1      187220.0  \n",
       "2      137780.0  \n",
       "3      216840.0  \n",
       "4      179660.0  \n",
       "...         ...  \n",
       "72344  178980.0  \n",
       "72345  149570.0  \n",
       "72346  201580.0  \n",
       "72347  156870.0  \n",
       "72348  148500.0  \n",
       "\n",
       "[72349 rows x 11 columns]"
      ]
     },
     "execution_count": 498,
     "metadata": {},
     "output_type": "execute_result"
    }
   ],
   "source": [
    "data"
   ]
  },
  {
   "cell_type": "markdown",
   "id": "ff868852",
   "metadata": {},
   "source": [
    "Встречаются дубликаты, у которых разные тексты. Их стоит удалить?"
   ]
  },
  {
   "cell_type": "code",
   "execution_count": 357,
   "id": "2d2c9207",
   "metadata": {},
   "outputs": [
    {
     "data": {
      "text/plain": [
       "original_track_id    67061\n",
       "track_id                 0\n",
       "track_remake_type        0\n",
       "lyricId              61474\n",
       "text                 61474\n",
       "dttm                     0\n",
       "title                    0\n",
       "language             49925\n",
       "isrc                   325\n",
       "genres                   0\n",
       "duration                 0\n",
       "dtype: int64"
      ]
     },
     "execution_count": 357,
     "metadata": {},
     "output_type": "execute_result"
    }
   ],
   "source": [
    "data.isna().sum()"
   ]
  },
  {
   "cell_type": "code",
   "execution_count": 358,
   "id": "b9d7f2e7",
   "metadata": {},
   "outputs": [],
   "source": [
    "data.loc[data['track_remake_type']=='COVER','track_remake_type'] = 0\n",
    "data.loc[data['track_remake_type']=='ORIGINAL', 'track_remake_type'] = 1"
   ]
  },
  {
   "cell_type": "code",
   "execution_count": 362,
   "id": "09209201",
   "metadata": {},
   "outputs": [],
   "source": [
    "data = data.drop(['lyricId', 'original_track_id'], axis=1)"
   ]
  },
  {
   "cell_type": "code",
   "execution_count": 365,
   "id": "859e6318",
   "metadata": {},
   "outputs": [
    {
     "data": {
      "text/plain": [
       "752"
      ]
     },
     "execution_count": 365,
     "metadata": {},
     "output_type": "execute_result"
    }
   ],
   "source": [
    "data[['track_id', 'isrc']].duplicated().sum()"
   ]
  },
  {
   "cell_type": "code",
   "execution_count": 368,
   "id": "af1e09f5",
   "metadata": {},
   "outputs": [],
   "source": [
    "data = data.drop_duplicates(subset=['track_id', 'isrc'], keep='first').reset_index(drop=True)"
   ]
  },
  {
   "cell_type": "code",
   "execution_count": 372,
   "id": "9b69d2ce",
   "metadata": {},
   "outputs": [
    {
     "data": {
      "text/plain": [
       "481"
      ]
     },
     "execution_count": 372,
     "metadata": {},
     "output_type": "execute_result"
    }
   ],
   "source": [
    "data['isrc'].duplicated().sum() # может быть такое, что у нескольких track_id один isrc? разное название у одинаковых песен"
   ]
  },
  {
   "cell_type": "code",
   "execution_count": 482,
   "id": "478f6637",
   "metadata": {},
   "outputs": [],
   "source": [
    "data = data.drop_duplicates(subset='isrc', keep='first').reset_index(drop=True)"
   ]
  },
  {
   "cell_type": "code",
   "execution_count": 483,
   "id": "5ec769ac",
   "metadata": {},
   "outputs": [
    {
     "data": {
      "text/plain": [
       "229"
      ]
     },
     "execution_count": 483,
     "metadata": {},
     "output_type": "execute_result"
    }
   ],
   "source": [
    "data['genres'].nunique()"
   ]
  },
  {
   "cell_type": "code",
   "execution_count": 484,
   "id": "725954dd",
   "metadata": {},
   "outputs": [
    {
     "data": {
      "text/plain": [
       "track_id                 0\n",
       "track_remake_type        0\n",
       "text                 61142\n",
       "dttm                     0\n",
       "title                    0\n",
       "language             49397\n",
       "isrc                     1\n",
       "genres                   0\n",
       "duration                 0\n",
       "dtype: int64"
      ]
     },
     "execution_count": 484,
     "metadata": {},
     "output_type": "execute_result"
    }
   ],
   "source": [
    "data.isna().sum()"
   ]
  },
  {
   "cell_type": "code",
   "execution_count": 485,
   "id": "3c1d6cd3",
   "metadata": {},
   "outputs": [],
   "source": [
    "data = data.dropna(subset='isrc')"
   ]
  },
  {
   "cell_type": "code",
   "execution_count": 493,
   "id": "1a1d94ae",
   "metadata": {},
   "outputs": [
    {
     "data": {
      "text/html": [
       "<div>\n",
       "<style scoped>\n",
       "    .dataframe tbody tr th:only-of-type {\n",
       "        vertical-align: middle;\n",
       "    }\n",
       "\n",
       "    .dataframe tbody tr th {\n",
       "        vertical-align: top;\n",
       "    }\n",
       "\n",
       "    .dataframe thead th {\n",
       "        text-align: right;\n",
       "    }\n",
       "</style>\n",
       "<table border=\"1\" class=\"dataframe\">\n",
       "  <thead>\n",
       "    <tr style=\"text-align: right;\">\n",
       "      <th></th>\n",
       "      <th>track_remake_type</th>\n",
       "      <th>text</th>\n",
       "      <th>dttm</th>\n",
       "      <th>title</th>\n",
       "      <th>isrc</th>\n",
       "      <th>genres</th>\n",
       "      <th>duration</th>\n",
       "    </tr>\n",
       "  </thead>\n",
       "  <tbody>\n",
       "    <tr>\n",
       "      <th>0</th>\n",
       "      <td>1</td>\n",
       "      <td>Left a good job in the city\\nWorkin' for the m...</td>\n",
       "      <td>1.257973e+12</td>\n",
       "      <td>Proud Mary</td>\n",
       "      <td>USFI86900049</td>\n",
       "      <td>ROCK, ALLROCK</td>\n",
       "      <td>187220.0</td>\n",
       "    </tr>\n",
       "    <tr>\n",
       "      <th>1</th>\n",
       "      <td>1</td>\n",
       "      <td>Some folks are born made to wave the flag\\nOoh...</td>\n",
       "      <td>1.257973e+12</td>\n",
       "      <td>Fortunate Son</td>\n",
       "      <td>USFI86900065</td>\n",
       "      <td>ROCK, ALLROCK</td>\n",
       "      <td>137780.0</td>\n",
       "    </tr>\n",
       "    <tr>\n",
       "      <th>2</th>\n",
       "      <td>1</td>\n",
       "      <td>Uno por pobre y feo, hombre\\nPero antoja'o, ay...</td>\n",
       "      <td>1.253563e+12</td>\n",
       "      <td>La Camisa Negra</td>\n",
       "      <td>USUL10400965</td>\n",
       "      <td>POP, FOLK, LATINFOLK</td>\n",
       "      <td>216840.0</td>\n",
       "    </tr>\n",
       "    <tr>\n",
       "      <th>3</th>\n",
       "      <td>1</td>\n",
       "      <td>Yeah!... yeah!... remember the time, baby... y...</td>\n",
       "      <td>1.258405e+12</td>\n",
       "      <td>The Way I Are</td>\n",
       "      <td>USUM70722806</td>\n",
       "      <td>FOREIGNRAP, RAP</td>\n",
       "      <td>179660.0</td>\n",
       "    </tr>\n",
       "    <tr>\n",
       "      <th>4</th>\n",
       "      <td>0</td>\n",
       "      <td>NaN</td>\n",
       "      <td>1.253218e+12</td>\n",
       "      <td>Extraball</td>\n",
       "      <td>FR8Q10900116</td>\n",
       "      <td>ELECTRONICS</td>\n",
       "      <td>212620.0</td>\n",
       "    </tr>\n",
       "    <tr>\n",
       "      <th>...</th>\n",
       "      <td>...</td>\n",
       "      <td>...</td>\n",
       "      <td>...</td>\n",
       "      <td>...</td>\n",
       "      <td>...</td>\n",
       "      <td>...</td>\n",
       "      <td>...</td>\n",
       "    </tr>\n",
       "    <tr>\n",
       "      <th>71111</th>\n",
       "      <td>1</td>\n",
       "      <td>NaN</td>\n",
       "      <td>1.695935e+12</td>\n",
       "      <td>Милый, прощай</td>\n",
       "      <td>RUAGT2312928</td>\n",
       "      <td>POP, RUSPOP</td>\n",
       "      <td>178980.0</td>\n",
       "    </tr>\n",
       "    <tr>\n",
       "      <th>71112</th>\n",
       "      <td>0</td>\n",
       "      <td>NaN</td>\n",
       "      <td>1.696169e+12</td>\n",
       "      <td>Habits (Stay Hight)</td>\n",
       "      <td>TCAHK2396284</td>\n",
       "      <td>ELECTRONICS</td>\n",
       "      <td>149570.0</td>\n",
       "    </tr>\n",
       "    <tr>\n",
       "      <th>71113</th>\n",
       "      <td>0</td>\n",
       "      <td>NaN</td>\n",
       "      <td>1.696540e+12</td>\n",
       "      <td>Arcade</td>\n",
       "      <td>TCAHM2318975</td>\n",
       "      <td>FOREIGNBARD, BARD</td>\n",
       "      <td>201580.0</td>\n",
       "    </tr>\n",
       "    <tr>\n",
       "      <th>71114</th>\n",
       "      <td>1</td>\n",
       "      <td>NaN</td>\n",
       "      <td>1.696540e+12</td>\n",
       "      <td>Май</td>\n",
       "      <td>SMRUS0076417</td>\n",
       "      <td>RUSRAP, RAP</td>\n",
       "      <td>156870.0</td>\n",
       "    </tr>\n",
       "    <tr>\n",
       "      <th>71115</th>\n",
       "      <td>1</td>\n",
       "      <td>NaN</td>\n",
       "      <td>1.696540e+12</td>\n",
       "      <td>Не улетай</td>\n",
       "      <td>DGA0M2316512</td>\n",
       "      <td>POP, RUSPOP</td>\n",
       "      <td>148500.0</td>\n",
       "    </tr>\n",
       "  </tbody>\n",
       "</table>\n",
       "<p>71115 rows × 7 columns</p>\n",
       "</div>"
      ],
      "text/plain": [
       "      track_remake_type                                               text  \\\n",
       "0                     1  Left a good job in the city\\nWorkin' for the m...   \n",
       "1                     1  Some folks are born made to wave the flag\\nOoh...   \n",
       "2                     1  Uno por pobre y feo, hombre\\nPero antoja'o, ay...   \n",
       "3                     1  Yeah!... yeah!... remember the time, baby... y...   \n",
       "4                     0                                                NaN   \n",
       "...                 ...                                                ...   \n",
       "71111                 1                                                NaN   \n",
       "71112                 0                                                NaN   \n",
       "71113                 0                                                NaN   \n",
       "71114                 1                                                NaN   \n",
       "71115                 1                                                NaN   \n",
       "\n",
       "               dttm                title          isrc                genres  \\\n",
       "0      1.257973e+12           Proud Mary  USFI86900049         ROCK, ALLROCK   \n",
       "1      1.257973e+12        Fortunate Son  USFI86900065         ROCK, ALLROCK   \n",
       "2      1.253563e+12      La Camisa Negra  USUL10400965  POP, FOLK, LATINFOLK   \n",
       "3      1.258405e+12        The Way I Are  USUM70722806       FOREIGNRAP, RAP   \n",
       "4      1.253218e+12            Extraball  FR8Q10900116           ELECTRONICS   \n",
       "...             ...                  ...           ...                   ...   \n",
       "71111  1.695935e+12        Милый, прощай  RUAGT2312928           POP, RUSPOP   \n",
       "71112  1.696169e+12  Habits (Stay Hight)  TCAHK2396284           ELECTRONICS   \n",
       "71113  1.696540e+12               Arcade  TCAHM2318975     FOREIGNBARD, BARD   \n",
       "71114  1.696540e+12                  Май  SMRUS0076417           RUSRAP, RAP   \n",
       "71115  1.696540e+12            Не улетай  DGA0M2316512           POP, RUSPOP   \n",
       "\n",
       "       duration  \n",
       "0      187220.0  \n",
       "1      137780.0  \n",
       "2      216840.0  \n",
       "3      179660.0  \n",
       "4      212620.0  \n",
       "...         ...  \n",
       "71111  178980.0  \n",
       "71112  149570.0  \n",
       "71113  201580.0  \n",
       "71114  156870.0  \n",
       "71115  148500.0  \n",
       "\n",
       "[71115 rows x 7 columns]"
      ]
     },
     "execution_count": 493,
     "metadata": {},
     "output_type": "execute_result"
    }
   ],
   "source": [
    "data.drop(['track_id', 'language'], axis=1)"
   ]
  },
  {
   "cell_type": "code",
   "execution_count": null,
   "id": "9f4c6dd0",
   "metadata": {},
   "outputs": [],
   "source": []
  }
 ],
 "metadata": {
  "kernelspec": {
   "display_name": "Python 3 (ipykernel)",
   "language": "python",
   "name": "python3"
  },
  "language_info": {
   "codemirror_mode": {
    "name": "ipython",
    "version": 3
   },
   "file_extension": ".py",
   "mimetype": "text/x-python",
   "name": "python",
   "nbconvert_exporter": "python",
   "pygments_lexer": "ipython3",
   "version": "3.9.13"
  }
 },
 "nbformat": 4,
 "nbformat_minor": 5
}
