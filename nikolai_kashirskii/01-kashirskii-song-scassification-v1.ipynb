{
 "cells": [
  {
   "cell_type": "markdown",
   "id": "ac5b1b43",
   "metadata": {},
   "source": [
    "# Обзор данных и попытка классифицировать треки"
   ]
  },
  {
   "cell_type": "markdown",
   "id": "bff506b7",
   "metadata": {},
   "source": [
    "В этом ноутбуке я смотрю на данные и их особенности. "
   ]
  },
  {
   "cell_type": "markdown",
   "id": "285ca4cf",
   "metadata": {},
   "source": [
    "## Импорт необходимых библиотек"
   ]
  },
  {
   "cell_type": "code",
   "execution_count": 6,
   "id": "0049916f",
   "metadata": {},
   "outputs": [],
   "source": [
    "# импорты из стандартной библиотеки\n",
    "import re\n",
    "import warnings\n",
    "\n",
    "# импорты сторонних библиотек\n",
    "import pandas as pd\n",
    "import numpy as np\n",
    "\n",
    "# импорт библиотек текущего модуля\n",
    "import matplotlib.pyplot as plt\n",
    "from langdetect import detect\n",
    "from langdetect.lang_detect_exception import LangDetectException\n",
    "from sentence_transformers import SentenceTransformer\n",
    "from sklearn.metrics import accuracy_score, roc_auc_score, confusion_matrix\n",
    "from sklearn.model_selection import train_test_split, cross_val_score\n",
    "from lightgbm import LGBMClassifier\n",
    "from tqdm import tqdm, notebook\n",
    "\n",
    "# настройки\n",
    "warnings.filterwarnings(\"ignore\")\n",
    "tqdm.pandas(desc=\"progress\")\n",
    "\n",
    "# константы заглавными буквами\n",
    "RANDOM_STATE = 12345\n",
    "CSV_PATH = \"../data/prepared_data.csv\"\n",
    "PARSED_PATH = \"../data/train_data\""
   ]
  },
  {
   "cell_type": "markdown",
   "id": "03bc9b6c",
   "metadata": {},
   "source": [
    "## Объявление функций"
   ]
  },
  {
   "cell_type": "markdown",
   "id": "c63ca2d3",
   "metadata": {},
   "source": [
    "Объявим функции, необходимые для работы"
   ]
  },
  {
   "cell_type": "code",
   "execution_count": 5,
   "id": "2746b42b",
   "metadata": {},
   "outputs": [],
   "source": [
    "def get_info(data: pd.DataFrame):\n",
    "    \"\"\"get_info()\n",
    "\n",
    "    Аргумент:\n",
    "        data (pd.DataFrame): Получает на вход pd.DataFrame\n",
    "\n",
    "    Возвращает:\n",
    "        Первые 5 строк датафрейма, метод .info() и метод .describe(include=\"all\")\n",
    "    \"\"\"\n",
    "    print(\"-\" * 35 + \"SAMPLE\" + \"-\" * 35)\n",
    "    display(data.head())\n",
    "    print()\n",
    "    print(\"-\" * 36 + \"INFO\" + \"-\" * 36)\n",
    "    print()\n",
    "    display(data.info())\n",
    "    print(\"-\" * 34 + \"DESCRIBE\" + \"-\" * 34)\n",
    "    display(data.describe(include=\"all\"))\n",
    "\n",
    "\n",
    "def leave_one_genre(row):\n",
    "    \"\"\"leave_one_genre()\n",
    "\n",
    "    Аргументы:\n",
    "        data (pd.Series): Получает на вход pd.Series с листами жанров\n",
    "\n",
    "    Возвращает:\n",
    "        pd.Series: Возвращает pd.Series с но вместо list теперь простая строка с одним жанром\n",
    "    \"\"\"\n",
    "\n",
    "    return row.split(\", \")[0]\n",
    "\n",
    "\n",
    "def clear_text(text):\n",
    "    # шаблоны\n",
    "    CONTR = r\"(C|c)ontributor(s|)([^;]*)((L|l)yrics|(V|v)(S|s))\"  # шаблон поиска между contributors ... lyrics с захватом самих слов и аналогичных\n",
    "    COMMENTS = r\"\\[[^\\]]*\\]\"  # комменты в квадратных скобках (например [Intro]) меняем на пробел\n",
    "    UPPER = r\"\\([^)]*\\)\"  # комменты в круглых скобках со звездочками (например (Whistling)) меняем на пробел\n",
    "    SPACES = \"([ ])\\1+\"  # повторяющиеся пробелы меняем на один пробел\n",
    "    DOTS = \"[\\.]+\"  # многоточие меняем на точку\n",
    "    SYMB = \"[^\\w\\d'\\s]\"  # оставшиеся знаки препинания кроме апострофа\n",
    "\n",
    "    if text[0].isdigit() and text[1].isdigit():\n",
    "        text = text[2:]\n",
    "    elif text[0].isdigit():\n",
    "        text = text[1:]\n",
    "\n",
    "    txt = re.sub(\n",
    "        COMMENTS, r\" \", text\n",
    "    )  # комменты в квадратных скобках (например [Intro]) меняем на пробел\n",
    "    txt = re.sub(\n",
    "        UPPER, r\" \", txt\n",
    "    )  # комменты в круглых скобках со звездочками (например (*Whistling*)) меняем на пробел\n",
    "    txt = re.sub(CONTR, r\" \", txt)\n",
    "    txt = re.sub(DOTS, r\".\", txt)  # многоточие меняем на точку\n",
    "    txt = re.sub(\n",
    "        SYMB, r\"\", txt\n",
    "    )  # оставшиеся знаки препинания кроме апострофа на пустую строку\n",
    "    txt = re.sub(\n",
    "        \"\\n\", r\" \", txt\n",
    "    )  # оставшиеся знаки препинания кроме апострофа на пустую строку\n",
    "    txt = re.sub(\n",
    "        SPACES, r\" \", txt\n",
    "    )  # повторяющиеся пробелы меняем на один пробел\n",
    "    txt = txt.lstrip()  # обрезка пробелов слева\n",
    "    txt = txt.rstrip()  # обрезка пробелов справа\n",
    "\n",
    "    # текст в нижний регистр\n",
    "    txt = txt.lower()\n",
    "\n",
    "    return txt\n",
    "\n",
    "\n",
    "def detect_language(text):\n",
    "    try:\n",
    "        language = detect(text).upper()\n",
    "    except LangDetectException:\n",
    "        language = \"unknown\"  # Язык по умолчанию для случаев, когда определение не удалось\n",
    "    return language\n",
    "\n",
    "\n",
    "def zero_and_one(row: str) -> int:\n",
    "    \"\"\"\n",
    "    Функция принимает на вход строку 'COVER'/'ORIGINAL' и возвращает 0/1 соответственно.\n",
    "    \"\"\"\n",
    "    if row == \"ORIGINAL\":\n",
    "        return 1\n",
    "    else:\n",
    "        return 0\n",
    "\n",
    "\n",
    "def get_conf_matrix(y_true, y_pred):\n",
    "    # Получение матрицы ошибок\n",
    "    tn, fp, fn, tp = confusion_matrix(y_true, y_pred).ravel()\n",
    "\n",
    "    # Создание pd.DataFrame для матрицы ошибок\n",
    "    data = {\"Прогноз (+)\": [tp, fp], \"Прогноз (-)\": [fn, tn]}\n",
    "    index = [\"Реальность (+)\", \"Реальность (-)\"]\n",
    "    conf_matrix = pd.DataFrame(data=data, index=index)\n",
    "\n",
    "    # Вывод матрицы ошибок\n",
    "    print(conf_matrix)\n",
    "\n",
    "\n",
    "def extract_year_from_isrc(row):\n",
    "    twenties = [i for i in range(0, 24)]\n",
    "\n",
    "    if len(row) > 12:\n",
    "        row = row.replace(\"-\", \"\")\n",
    "    year = int(row[5:7])\n",
    "    final_year = \"\"\n",
    "    if year in twenties:\n",
    "        year = str(year)\n",
    "        if len(year) == 1:\n",
    "            final_year = \"200\" + year\n",
    "            return int(final_year)\n",
    "        else:\n",
    "            final_year = \"20\" + year\n",
    "            return int(final_year)\n",
    "    else:\n",
    "        year = str(year)\n",
    "        final_year = \"19\" + year\n",
    "\n",
    "        return int(final_year)"
   ]
  },
  {
   "cell_type": "markdown",
   "id": "507547d6",
   "metadata": {},
   "source": [
    "## Обзор данных"
   ]
  },
  {
   "cell_type": "code",
   "execution_count": 7,
   "id": "75e4b266",
   "metadata": {},
   "outputs": [],
   "source": [
    "try:\n",
    "    # уже предобработанный датасет с метаданными\n",
    "    parsed_data = pd.read_csv(\n",
    "        \"../data/prepared_metadata.csv\", index_col=\"Unnamed: 0\"\n",
    "    )\n",
    "\n",
    "except:\n",
    "    # исходные данные\n",
    "    covers = pd.read_json(\"../data/covers.json\", lines=True)\n",
    "    lyrics = pd.read_json(\"../data/lyrics.json\", lines=True)\n",
    "    meta = pd.read_json(\"../data/meta.json\", lines=True)\n",
    "\n",
    "    # данные, которые спарсил Андрей\n",
    "    parsed_data = pd.read_pickle(\"../data/train_data\", compression=\"zip\")"
   ]
  },
  {
   "cell_type": "code",
   "execution_count": 27,
   "id": "4d13a890",
   "metadata": {},
   "outputs": [],
   "source": [
    "# уже предобработанный датасет с метаданными\n",
    "parsed_data = pd.read_csv(\n",
    "    \"../data/prepared_metadata.csv\", index_col=\"Unnamed: 0\"\n",
    ")"
   ]
  },
  {
   "cell_type": "code",
   "execution_count": 28,
   "id": "280c172c",
   "metadata": {},
   "outputs": [
    {
     "name": "stderr",
     "output_type": "stream",
     "text": [
      "Вытаскиваем год регистрации трека из isrc: 100%|█████████████████████████████| 72242/72242 [00:00<00:00, 246546.90it/s]\n"
     ]
    }
   ],
   "source": [
    "tqdm.pandas(desc=\"Вытаскиваем год регистрации трека из isrc\")\n",
    "parsed_data[\"year\"] = parsed_data[\"isrc\"].progress_apply(\n",
    "    extract_year_from_isrc\n",
    ")"
   ]
  },
  {
   "cell_type": "code",
   "execution_count": 38,
   "id": "1e398b6b",
   "metadata": {},
   "outputs": [],
   "source": [
    "parsed_data = parsed_data.drop(\"isrc\", axis=1)"
   ]
  },
  {
   "cell_type": "markdown",
   "id": "43e0f52f",
   "metadata": {
    "heading_collapsed": true
   },
   "source": [
    "### Файл `covers`"
   ]
  },
  {
   "cell_type": "code",
   "execution_count": 5,
   "id": "557c3707",
   "metadata": {
    "hidden": true
   },
   "outputs": [
    {
     "name": "stdout",
     "output_type": "stream",
     "text": [
      "-----------------------------------SAMPLE-----------------------------------\n"
     ]
    },
    {
     "data": {
      "text/html": [
       "<div>\n",
       "<style scoped>\n",
       "    .dataframe tbody tr th:only-of-type {\n",
       "        vertical-align: middle;\n",
       "    }\n",
       "\n",
       "    .dataframe tbody tr th {\n",
       "        vertical-align: top;\n",
       "    }\n",
       "\n",
       "    .dataframe thead th {\n",
       "        text-align: right;\n",
       "    }\n",
       "</style>\n",
       "<table border=\"1\" class=\"dataframe\">\n",
       "  <thead>\n",
       "    <tr style=\"text-align: right;\">\n",
       "      <th></th>\n",
       "      <th>original_track_id</th>\n",
       "      <th>track_id</th>\n",
       "      <th>track_remake_type</th>\n",
       "    </tr>\n",
       "  </thead>\n",
       "  <tbody>\n",
       "    <tr>\n",
       "      <th>0</th>\n",
       "      <td>eeb69a3cb92300456b6a5f4162093851</td>\n",
       "      <td>eeb69a3cb92300456b6a5f4162093851</td>\n",
       "      <td>ORIGINAL</td>\n",
       "    </tr>\n",
       "    <tr>\n",
       "      <th>1</th>\n",
       "      <td>fe7ee8fc1959cc7214fa21c4840dff0a</td>\n",
       "      <td>fe7ee8fc1959cc7214fa21c4840dff0a</td>\n",
       "      <td>ORIGINAL</td>\n",
       "    </tr>\n",
       "    <tr>\n",
       "      <th>2</th>\n",
       "      <td>cd89fef7ffdd490db800357f47722b20</td>\n",
       "      <td>cd89fef7ffdd490db800357f47722b20</td>\n",
       "      <td>ORIGINAL</td>\n",
       "    </tr>\n",
       "    <tr>\n",
       "      <th>3</th>\n",
       "      <td>995665640dc319973d3173a74a03860c</td>\n",
       "      <td>995665640dc319973d3173a74a03860c</td>\n",
       "      <td>ORIGINAL</td>\n",
       "    </tr>\n",
       "    <tr>\n",
       "      <th>4</th>\n",
       "      <td>None</td>\n",
       "      <td>d6288499d0083cc34e60a077b7c4b3e1</td>\n",
       "      <td>COVER</td>\n",
       "    </tr>\n",
       "  </tbody>\n",
       "</table>\n",
       "</div>"
      ],
      "text/plain": [
       "                  original_track_id                          track_id  \\\n",
       "0  eeb69a3cb92300456b6a5f4162093851  eeb69a3cb92300456b6a5f4162093851   \n",
       "1  fe7ee8fc1959cc7214fa21c4840dff0a  fe7ee8fc1959cc7214fa21c4840dff0a   \n",
       "2  cd89fef7ffdd490db800357f47722b20  cd89fef7ffdd490db800357f47722b20   \n",
       "3  995665640dc319973d3173a74a03860c  995665640dc319973d3173a74a03860c   \n",
       "4                              None  d6288499d0083cc34e60a077b7c4b3e1   \n",
       "\n",
       "  track_remake_type  \n",
       "0          ORIGINAL  \n",
       "1          ORIGINAL  \n",
       "2          ORIGINAL  \n",
       "3          ORIGINAL  \n",
       "4             COVER  "
      ]
     },
     "metadata": {},
     "output_type": "display_data"
    },
    {
     "name": "stdout",
     "output_type": "stream",
     "text": [
      "\n",
      "------------------------------------INFO------------------------------------\n",
      "\n",
      "<class 'pandas.core.frame.DataFrame'>\n",
      "RangeIndex: 71597 entries, 0 to 71596\n",
      "Data columns (total 3 columns):\n",
      " #   Column             Non-Null Count  Dtype \n",
      "---  ------             --------------  ----- \n",
      " 0   original_track_id  4821 non-null   object\n",
      " 1   track_id           71597 non-null  object\n",
      " 2   track_remake_type  71597 non-null  object\n",
      "dtypes: object(3)\n",
      "memory usage: 1.6+ MB\n"
     ]
    },
    {
     "data": {
      "text/plain": [
       "None"
      ]
     },
     "metadata": {},
     "output_type": "display_data"
    },
    {
     "name": "stdout",
     "output_type": "stream",
     "text": [
      "----------------------------------DESCRIBE----------------------------------\n"
     ]
    },
    {
     "data": {
      "text/html": [
       "<div>\n",
       "<style scoped>\n",
       "    .dataframe tbody tr th:only-of-type {\n",
       "        vertical-align: middle;\n",
       "    }\n",
       "\n",
       "    .dataframe tbody tr th {\n",
       "        vertical-align: top;\n",
       "    }\n",
       "\n",
       "    .dataframe thead th {\n",
       "        text-align: right;\n",
       "    }\n",
       "</style>\n",
       "<table border=\"1\" class=\"dataframe\">\n",
       "  <thead>\n",
       "    <tr style=\"text-align: right;\">\n",
       "      <th></th>\n",
       "      <th>original_track_id</th>\n",
       "      <th>track_id</th>\n",
       "      <th>track_remake_type</th>\n",
       "    </tr>\n",
       "  </thead>\n",
       "  <tbody>\n",
       "    <tr>\n",
       "      <th>count</th>\n",
       "      <td>4821</td>\n",
       "      <td>71597</td>\n",
       "      <td>71597</td>\n",
       "    </tr>\n",
       "    <tr>\n",
       "      <th>unique</th>\n",
       "      <td>4468</td>\n",
       "      <td>71597</td>\n",
       "      <td>2</td>\n",
       "    </tr>\n",
       "    <tr>\n",
       "      <th>top</th>\n",
       "      <td>f3e5e9db509f9b6f6d93b9c38e4e1324</td>\n",
       "      <td>eeb69a3cb92300456b6a5f4162093851</td>\n",
       "      <td>COVER</td>\n",
       "    </tr>\n",
       "    <tr>\n",
       "      <th>freq</th>\n",
       "      <td>38</td>\n",
       "      <td>1</td>\n",
       "      <td>67304</td>\n",
       "    </tr>\n",
       "  </tbody>\n",
       "</table>\n",
       "</div>"
      ],
      "text/plain": [
       "                       original_track_id                          track_id  \\\n",
       "count                               4821                             71597   \n",
       "unique                              4468                             71597   \n",
       "top     f3e5e9db509f9b6f6d93b9c38e4e1324  eeb69a3cb92300456b6a5f4162093851   \n",
       "freq                                  38                                 1   \n",
       "\n",
       "       track_remake_type  \n",
       "count              71597  \n",
       "unique                 2  \n",
       "top                COVER  \n",
       "freq               67304  "
      ]
     },
     "metadata": {},
     "output_type": "display_data"
    }
   ],
   "source": [
    "get_info(covers)\n"
   ]
  },
  {
   "cell_type": "markdown",
   "id": "015076d1",
   "metadata": {
    "heading_collapsed": true
   },
   "source": [
    "### Файл `lyrics`"
   ]
  },
  {
   "cell_type": "code",
   "execution_count": 6,
   "id": "e4f9fc13",
   "metadata": {
    "hidden": true
   },
   "outputs": [
    {
     "name": "stdout",
     "output_type": "stream",
     "text": [
      "-----------------------------------SAMPLE-----------------------------------\n"
     ]
    },
    {
     "data": {
      "text/html": [
       "<div>\n",
       "<style scoped>\n",
       "    .dataframe tbody tr th:only-of-type {\n",
       "        vertical-align: middle;\n",
       "    }\n",
       "\n",
       "    .dataframe tbody tr th {\n",
       "        vertical-align: top;\n",
       "    }\n",
       "\n",
       "    .dataframe thead th {\n",
       "        text-align: right;\n",
       "    }\n",
       "</style>\n",
       "<table border=\"1\" class=\"dataframe\">\n",
       "  <thead>\n",
       "    <tr style=\"text-align: right;\">\n",
       "      <th></th>\n",
       "      <th>lyricId</th>\n",
       "      <th>text</th>\n",
       "      <th>track_id</th>\n",
       "    </tr>\n",
       "  </thead>\n",
       "  <tbody>\n",
       "    <tr>\n",
       "      <th>0</th>\n",
       "      <td>a951f9504e89759e9d23039b7b17ec14</td>\n",
       "      <td>Живу сейчас обломами, обломками не той любви\\n...</td>\n",
       "      <td>1c4b1230f937e4c548ff732523214dcd</td>\n",
       "    </tr>\n",
       "    <tr>\n",
       "      <th>1</th>\n",
       "      <td>0c749bc3f01eb8e6cf986fa14ccfc585</td>\n",
       "      <td>Tell me your fable\\nA fable\\nTell me your fabl...</td>\n",
       "      <td>0faea89b0d7d6235b5b74def72511bd8</td>\n",
       "    </tr>\n",
       "    <tr>\n",
       "      <th>2</th>\n",
       "      <td>e2c8830fbc86e5964478243099eec23a</td>\n",
       "      <td>You're ashamed about all your fears and doubts...</td>\n",
       "      <td>9c6dc41d5ccd9968d07f055da5d8f741</td>\n",
       "    </tr>\n",
       "    <tr>\n",
       "      <th>3</th>\n",
       "      <td>e2c8830fbc86e5964478243099eec23a</td>\n",
       "      <td>You're ashamed about all your fears and doubts...</td>\n",
       "      <td>bfd04a73e9cffdf0e282c92219a86ea1</td>\n",
       "    </tr>\n",
       "    <tr>\n",
       "      <th>4</th>\n",
       "      <td>7624653ca8522ba93470843c74961b7d</td>\n",
       "      <td>You showed him all the best of you,\\nBut I'm a...</td>\n",
       "      <td>8d70930d09cd239c948408d1317d8659</td>\n",
       "    </tr>\n",
       "  </tbody>\n",
       "</table>\n",
       "</div>"
      ],
      "text/plain": [
       "                            lyricId  \\\n",
       "0  a951f9504e89759e9d23039b7b17ec14   \n",
       "1  0c749bc3f01eb8e6cf986fa14ccfc585   \n",
       "2  e2c8830fbc86e5964478243099eec23a   \n",
       "3  e2c8830fbc86e5964478243099eec23a   \n",
       "4  7624653ca8522ba93470843c74961b7d   \n",
       "\n",
       "                                                text  \\\n",
       "0  Живу сейчас обломами, обломками не той любви\\n...   \n",
       "1  Tell me your fable\\nA fable\\nTell me your fabl...   \n",
       "2  You're ashamed about all your fears and doubts...   \n",
       "3  You're ashamed about all your fears and doubts...   \n",
       "4  You showed him all the best of you,\\nBut I'm a...   \n",
       "\n",
       "                           track_id  \n",
       "0  1c4b1230f937e4c548ff732523214dcd  \n",
       "1  0faea89b0d7d6235b5b74def72511bd8  \n",
       "2  9c6dc41d5ccd9968d07f055da5d8f741  \n",
       "3  bfd04a73e9cffdf0e282c92219a86ea1  \n",
       "4  8d70930d09cd239c948408d1317d8659  "
      ]
     },
     "metadata": {},
     "output_type": "display_data"
    },
    {
     "name": "stdout",
     "output_type": "stream",
     "text": [
      "\n",
      "------------------------------------INFO------------------------------------\n",
      "\n",
      "<class 'pandas.core.frame.DataFrame'>\n",
      "RangeIndex: 11414 entries, 0 to 11413\n",
      "Data columns (total 3 columns):\n",
      " #   Column    Non-Null Count  Dtype \n",
      "---  ------    --------------  ----- \n",
      " 0   lyricId   11414 non-null  object\n",
      " 1   text      11414 non-null  object\n",
      " 2   track_id  11414 non-null  object\n",
      "dtypes: object(3)\n",
      "memory usage: 267.6+ KB\n"
     ]
    },
    {
     "data": {
      "text/plain": [
       "None"
      ]
     },
     "metadata": {},
     "output_type": "display_data"
    },
    {
     "name": "stdout",
     "output_type": "stream",
     "text": [
      "----------------------------------DESCRIBE----------------------------------\n"
     ]
    },
    {
     "data": {
      "text/html": [
       "<div>\n",
       "<style scoped>\n",
       "    .dataframe tbody tr th:only-of-type {\n",
       "        vertical-align: middle;\n",
       "    }\n",
       "\n",
       "    .dataframe tbody tr th {\n",
       "        vertical-align: top;\n",
       "    }\n",
       "\n",
       "    .dataframe thead th {\n",
       "        text-align: right;\n",
       "    }\n",
       "</style>\n",
       "<table border=\"1\" class=\"dataframe\">\n",
       "  <thead>\n",
       "    <tr style=\"text-align: right;\">\n",
       "      <th></th>\n",
       "      <th>lyricId</th>\n",
       "      <th>text</th>\n",
       "      <th>track_id</th>\n",
       "    </tr>\n",
       "  </thead>\n",
       "  <tbody>\n",
       "    <tr>\n",
       "      <th>count</th>\n",
       "      <td>11414</td>\n",
       "      <td>11414</td>\n",
       "      <td>11414</td>\n",
       "    </tr>\n",
       "    <tr>\n",
       "      <th>unique</th>\n",
       "      <td>10915</td>\n",
       "      <td>10644</td>\n",
       "      <td>10277</td>\n",
       "    </tr>\n",
       "    <tr>\n",
       "      <th>top</th>\n",
       "      <td>28fbafaf626c497d0d4d933b4f0d3f5b</td>\n",
       "      <td>Twenty-five years and my life is still\\nI'm tr...</td>\n",
       "      <td>b891000882f4a612190142861b5c038b</td>\n",
       "    </tr>\n",
       "    <tr>\n",
       "      <th>freq</th>\n",
       "      <td>9</td>\n",
       "      <td>15</td>\n",
       "      <td>24</td>\n",
       "    </tr>\n",
       "  </tbody>\n",
       "</table>\n",
       "</div>"
      ],
      "text/plain": [
       "                                 lyricId  \\\n",
       "count                              11414   \n",
       "unique                             10915   \n",
       "top     28fbafaf626c497d0d4d933b4f0d3f5b   \n",
       "freq                                   9   \n",
       "\n",
       "                                                     text  \\\n",
       "count                                               11414   \n",
       "unique                                              10644   \n",
       "top     Twenty-five years and my life is still\\nI'm tr...   \n",
       "freq                                                   15   \n",
       "\n",
       "                                track_id  \n",
       "count                              11414  \n",
       "unique                             10277  \n",
       "top     b891000882f4a612190142861b5c038b  \n",
       "freq                                  24  "
      ]
     },
     "metadata": {},
     "output_type": "display_data"
    }
   ],
   "source": [
    "get_info(lyrics)\n"
   ]
  },
  {
   "cell_type": "code",
   "execution_count": 7,
   "id": "a730323e",
   "metadata": {
    "hidden": true
   },
   "outputs": [
    {
     "name": "stderr",
     "output_type": "stream",
     "text": [
      "progress: 100%|████████████████████████████████████████████████████████████████| 11414/11414 [00:01<00:00, 9994.77it/s]\n"
     ]
    }
   ],
   "source": [
    "# очистка текста\n",
    "lyrics[\"cleared_text\"] = lyrics[\"text\"].progress_apply(\n",
    "    lambda text: clear_text(text)\n",
    ")"
   ]
  },
  {
   "cell_type": "code",
   "execution_count": 8,
   "id": "02c1dfde",
   "metadata": {
    "hidden": true
   },
   "outputs": [
    {
     "name": "stderr",
     "output_type": "stream",
     "text": [
      "progress: 100%|██████████████████████████████████████████████████████████████████| 11414/11414 [02:31<00:00, 75.46it/s]\n"
     ]
    }
   ],
   "source": [
    "# распознаем язык текста\n",
    "lyrics[\"text_lang\"] = lyrics[\"text\"].progress_apply(\n",
    "    lambda text: detect_language(text)\n",
    ")"
   ]
  },
  {
   "cell_type": "code",
   "execution_count": 9,
   "id": "aa0bf628",
   "metadata": {
    "hidden": true,
    "scrolled": false
   },
   "outputs": [],
   "source": [
    "# немного меняем позиции\n",
    "lyrics = lyrics[[\"lyricId\", \"text\", \"cleared_text\", \"text_lang\", \"track_id\"]]"
   ]
  },
  {
   "cell_type": "markdown",
   "id": "7ec17078",
   "metadata": {
    "heading_collapsed": true
   },
   "source": [
    "### Файл `meta`"
   ]
  },
  {
   "cell_type": "code",
   "execution_count": 10,
   "id": "cde9c174",
   "metadata": {
    "hidden": true
   },
   "outputs": [
    {
     "name": "stdout",
     "output_type": "stream",
     "text": [
      "-----------------------------------SAMPLE-----------------------------------\n"
     ]
    },
    {
     "data": {
      "text/html": [
       "<div>\n",
       "<style scoped>\n",
       "    .dataframe tbody tr th:only-of-type {\n",
       "        vertical-align: middle;\n",
       "    }\n",
       "\n",
       "    .dataframe tbody tr th {\n",
       "        vertical-align: top;\n",
       "    }\n",
       "\n",
       "    .dataframe thead th {\n",
       "        text-align: right;\n",
       "    }\n",
       "</style>\n",
       "<table border=\"1\" class=\"dataframe\">\n",
       "  <thead>\n",
       "    <tr style=\"text-align: right;\">\n",
       "      <th></th>\n",
       "      <th>track_id</th>\n",
       "      <th>dttm</th>\n",
       "      <th>title</th>\n",
       "      <th>language</th>\n",
       "      <th>isrc</th>\n",
       "      <th>genres</th>\n",
       "      <th>duration</th>\n",
       "    </tr>\n",
       "  </thead>\n",
       "  <tbody>\n",
       "    <tr>\n",
       "      <th>0</th>\n",
       "      <td>c3b9d6a354ca008aa4518329aaa21380</td>\n",
       "      <td>1.639688e+12</td>\n",
       "      <td>Happy New Year</td>\n",
       "      <td>EN</td>\n",
       "      <td>RUB422103970</td>\n",
       "      <td>[DANCE]</td>\n",
       "      <td>161120.0</td>\n",
       "    </tr>\n",
       "    <tr>\n",
       "      <th>1</th>\n",
       "      <td>c57e3d13bbbf5322584a7e92e6f1f7ff</td>\n",
       "      <td>1.637762e+12</td>\n",
       "      <td>Bad Habits</td>\n",
       "      <td>EN</td>\n",
       "      <td>QZN882178276</td>\n",
       "      <td>[ELECTRONICS]</td>\n",
       "      <td>362260.0</td>\n",
       "    </tr>\n",
       "    <tr>\n",
       "      <th>2</th>\n",
       "      <td>955f2aafe8717908c140bf122ba4172d</td>\n",
       "      <td>1.637768e+12</td>\n",
       "      <td>Por Esa Loca Vanidad</td>\n",
       "      <td>None</td>\n",
       "      <td>QZNJZ2122549</td>\n",
       "      <td>[FOLK, LATINFOLK]</td>\n",
       "      <td>260000.0</td>\n",
       "    </tr>\n",
       "    <tr>\n",
       "      <th>3</th>\n",
       "      <td>fae5a077c9956045955dde02143bd8ff</td>\n",
       "      <td>1.637768e+12</td>\n",
       "      <td>Mil Lagrimas</td>\n",
       "      <td>None</td>\n",
       "      <td>QZNJZ2166033</td>\n",
       "      <td>[FOLK, LATINFOLK]</td>\n",
       "      <td>190000.0</td>\n",
       "    </tr>\n",
       "    <tr>\n",
       "      <th>4</th>\n",
       "      <td>6bede082154d34fc18d9a6744bc95bf5</td>\n",
       "      <td>1.637768e+12</td>\n",
       "      <td>Sexo Humo y Alcohol</td>\n",
       "      <td>None</td>\n",
       "      <td>QZNJZ2122551</td>\n",
       "      <td>[FOLK, LATINFOLK]</td>\n",
       "      <td>203000.0</td>\n",
       "    </tr>\n",
       "  </tbody>\n",
       "</table>\n",
       "</div>"
      ],
      "text/plain": [
       "                           track_id          dttm                 title  \\\n",
       "0  c3b9d6a354ca008aa4518329aaa21380  1.639688e+12        Happy New Year   \n",
       "1  c57e3d13bbbf5322584a7e92e6f1f7ff  1.637762e+12            Bad Habits   \n",
       "2  955f2aafe8717908c140bf122ba4172d  1.637768e+12  Por Esa Loca Vanidad   \n",
       "3  fae5a077c9956045955dde02143bd8ff  1.637768e+12          Mil Lagrimas   \n",
       "4  6bede082154d34fc18d9a6744bc95bf5  1.637768e+12   Sexo Humo y Alcohol   \n",
       "\n",
       "  language          isrc             genres  duration  \n",
       "0       EN  RUB422103970            [DANCE]  161120.0  \n",
       "1       EN  QZN882178276      [ELECTRONICS]  362260.0  \n",
       "2     None  QZNJZ2122549  [FOLK, LATINFOLK]  260000.0  \n",
       "3     None  QZNJZ2166033  [FOLK, LATINFOLK]  190000.0  \n",
       "4     None  QZNJZ2122551  [FOLK, LATINFOLK]  203000.0  "
      ]
     },
     "metadata": {},
     "output_type": "display_data"
    },
    {
     "name": "stdout",
     "output_type": "stream",
     "text": [
      "\n",
      "------------------------------------INFO------------------------------------\n",
      "\n",
      "<class 'pandas.core.frame.DataFrame'>\n",
      "RangeIndex: 71769 entries, 0 to 71768\n",
      "Data columns (total 7 columns):\n",
      " #   Column    Non-Null Count  Dtype  \n",
      "---  ------    --------------  -----  \n",
      " 0   track_id  71768 non-null  object \n",
      " 1   dttm      71768 non-null  float64\n",
      " 2   title     71768 non-null  object \n",
      " 3   language  21969 non-null  object \n",
      " 4   isrc      71455 non-null  object \n",
      " 5   genres    71768 non-null  object \n",
      " 6   duration  71768 non-null  float64\n",
      "dtypes: float64(2), object(5)\n",
      "memory usage: 3.8+ MB\n"
     ]
    },
    {
     "data": {
      "text/plain": [
       "None"
      ]
     },
     "metadata": {},
     "output_type": "display_data"
    },
    {
     "name": "stdout",
     "output_type": "stream",
     "text": [
      "----------------------------------DESCRIBE----------------------------------\n"
     ]
    },
    {
     "data": {
      "text/html": [
       "<div>\n",
       "<style scoped>\n",
       "    .dataframe tbody tr th:only-of-type {\n",
       "        vertical-align: middle;\n",
       "    }\n",
       "\n",
       "    .dataframe tbody tr th {\n",
       "        vertical-align: top;\n",
       "    }\n",
       "\n",
       "    .dataframe thead th {\n",
       "        text-align: right;\n",
       "    }\n",
       "</style>\n",
       "<table border=\"1\" class=\"dataframe\">\n",
       "  <thead>\n",
       "    <tr style=\"text-align: right;\">\n",
       "      <th></th>\n",
       "      <th>track_id</th>\n",
       "      <th>dttm</th>\n",
       "      <th>title</th>\n",
       "      <th>language</th>\n",
       "      <th>isrc</th>\n",
       "      <th>genres</th>\n",
       "      <th>duration</th>\n",
       "    </tr>\n",
       "  </thead>\n",
       "  <tbody>\n",
       "    <tr>\n",
       "      <th>count</th>\n",
       "      <td>71768</td>\n",
       "      <td>7.176800e+04</td>\n",
       "      <td>71768</td>\n",
       "      <td>21969</td>\n",
       "      <td>71455</td>\n",
       "      <td>71768</td>\n",
       "      <td>7.176800e+04</td>\n",
       "    </tr>\n",
       "    <tr>\n",
       "      <th>unique</th>\n",
       "      <td>71768</td>\n",
       "      <td>NaN</td>\n",
       "      <td>45462</td>\n",
       "      <td>85</td>\n",
       "      <td>71283</td>\n",
       "      <td>232</td>\n",
       "      <td>NaN</td>\n",
       "    </tr>\n",
       "    <tr>\n",
       "      <th>top</th>\n",
       "      <td>c3b9d6a354ca008aa4518329aaa21380</td>\n",
       "      <td>NaN</td>\n",
       "      <td>Morena</td>\n",
       "      <td>EN</td>\n",
       "      <td>USTCF1018560</td>\n",
       "      <td>[FOLK, LATINFOLK]</td>\n",
       "      <td>NaN</td>\n",
       "    </tr>\n",
       "    <tr>\n",
       "      <th>freq</th>\n",
       "      <td>1</td>\n",
       "      <td>NaN</td>\n",
       "      <td>81</td>\n",
       "      <td>15322</td>\n",
       "      <td>3</td>\n",
       "      <td>18391</td>\n",
       "      <td>NaN</td>\n",
       "    </tr>\n",
       "    <tr>\n",
       "      <th>mean</th>\n",
       "      <td>NaN</td>\n",
       "      <td>1.584287e+12</td>\n",
       "      <td>NaN</td>\n",
       "      <td>NaN</td>\n",
       "      <td>NaN</td>\n",
       "      <td>NaN</td>\n",
       "      <td>2.049187e+05</td>\n",
       "    </tr>\n",
       "    <tr>\n",
       "      <th>std</th>\n",
       "      <td>NaN</td>\n",
       "      <td>9.113923e+10</td>\n",
       "      <td>NaN</td>\n",
       "      <td>NaN</td>\n",
       "      <td>NaN</td>\n",
       "      <td>NaN</td>\n",
       "      <td>8.559854e+04</td>\n",
       "    </tr>\n",
       "    <tr>\n",
       "      <th>min</th>\n",
       "      <td>NaN</td>\n",
       "      <td>1.249926e+12</td>\n",
       "      <td>NaN</td>\n",
       "      <td>NaN</td>\n",
       "      <td>NaN</td>\n",
       "      <td>NaN</td>\n",
       "      <td>0.000000e+00</td>\n",
       "    </tr>\n",
       "    <tr>\n",
       "      <th>25%</th>\n",
       "      <td>NaN</td>\n",
       "      <td>1.570141e+12</td>\n",
       "      <td>NaN</td>\n",
       "      <td>NaN</td>\n",
       "      <td>NaN</td>\n",
       "      <td>NaN</td>\n",
       "      <td>1.613700e+05</td>\n",
       "    </tr>\n",
       "    <tr>\n",
       "      <th>50%</th>\n",
       "      <td>NaN</td>\n",
       "      <td>1.620405e+12</td>\n",
       "      <td>NaN</td>\n",
       "      <td>NaN</td>\n",
       "      <td>NaN</td>\n",
       "      <td>NaN</td>\n",
       "      <td>1.993950e+05</td>\n",
       "    </tr>\n",
       "    <tr>\n",
       "      <th>75%</th>\n",
       "      <td>NaN</td>\n",
       "      <td>1.637050e+12</td>\n",
       "      <td>NaN</td>\n",
       "      <td>NaN</td>\n",
       "      <td>NaN</td>\n",
       "      <td>NaN</td>\n",
       "      <td>2.390700e+05</td>\n",
       "    </tr>\n",
       "    <tr>\n",
       "      <th>max</th>\n",
       "      <td>NaN</td>\n",
       "      <td>1.697663e+12</td>\n",
       "      <td>NaN</td>\n",
       "      <td>NaN</td>\n",
       "      <td>NaN</td>\n",
       "      <td>NaN</td>\n",
       "      <td>5.487300e+06</td>\n",
       "    </tr>\n",
       "  </tbody>\n",
       "</table>\n",
       "</div>"
      ],
      "text/plain": [
       "                                track_id          dttm   title language  \\\n",
       "count                              71768  7.176800e+04   71768    21969   \n",
       "unique                             71768           NaN   45462       85   \n",
       "top     c3b9d6a354ca008aa4518329aaa21380           NaN  Morena       EN   \n",
       "freq                                   1           NaN      81    15322   \n",
       "mean                                 NaN  1.584287e+12     NaN      NaN   \n",
       "std                                  NaN  9.113923e+10     NaN      NaN   \n",
       "min                                  NaN  1.249926e+12     NaN      NaN   \n",
       "25%                                  NaN  1.570141e+12     NaN      NaN   \n",
       "50%                                  NaN  1.620405e+12     NaN      NaN   \n",
       "75%                                  NaN  1.637050e+12     NaN      NaN   \n",
       "max                                  NaN  1.697663e+12     NaN      NaN   \n",
       "\n",
       "                isrc             genres      duration  \n",
       "count          71455              71768  7.176800e+04  \n",
       "unique         71283                232           NaN  \n",
       "top     USTCF1018560  [FOLK, LATINFOLK]           NaN  \n",
       "freq               3              18391           NaN  \n",
       "mean             NaN                NaN  2.049187e+05  \n",
       "std              NaN                NaN  8.559854e+04  \n",
       "min              NaN                NaN  0.000000e+00  \n",
       "25%              NaN                NaN  1.613700e+05  \n",
       "50%              NaN                NaN  1.993950e+05  \n",
       "75%              NaN                NaN  2.390700e+05  \n",
       "max              NaN                NaN  5.487300e+06  "
      ]
     },
     "metadata": {},
     "output_type": "display_data"
    }
   ],
   "source": [
    "get_info(meta)\n"
   ]
  },
  {
   "cell_type": "markdown",
   "id": "81c6f0c0",
   "metadata": {
    "hidden": true
   },
   "source": [
    "Все эти файлы объединяет признак `track_id`, замутим ***left join*** (т.к. не все данные имеются) по этому признаку в таком порядке:  \n",
    "  \n",
    "meta -> lyrics -> covers"
   ]
  },
  {
   "cell_type": "code",
   "execution_count": 11,
   "id": "556b880e",
   "metadata": {
    "hidden": true
   },
   "outputs": [],
   "source": [
    "merged_data = meta.merge(lyrics, how=\"left\", on=\"track_id\")\n",
    "merged_data = merged_data.merge(covers, how=\"left\", on=\"track_id\")"
   ]
  },
  {
   "cell_type": "markdown",
   "id": "05b10494",
   "metadata": {
    "heading_collapsed": true
   },
   "source": [
    "### Объединенные данные"
   ]
  },
  {
   "cell_type": "code",
   "execution_count": 12,
   "id": "2f933b0b",
   "metadata": {
    "hidden": true
   },
   "outputs": [
    {
     "name": "stdout",
     "output_type": "stream",
     "text": [
      "-----------------------------------SAMPLE-----------------------------------\n"
     ]
    },
    {
     "data": {
      "text/html": [
       "<div>\n",
       "<style scoped>\n",
       "    .dataframe tbody tr th:only-of-type {\n",
       "        vertical-align: middle;\n",
       "    }\n",
       "\n",
       "    .dataframe tbody tr th {\n",
       "        vertical-align: top;\n",
       "    }\n",
       "\n",
       "    .dataframe thead th {\n",
       "        text-align: right;\n",
       "    }\n",
       "</style>\n",
       "<table border=\"1\" class=\"dataframe\">\n",
       "  <thead>\n",
       "    <tr style=\"text-align: right;\">\n",
       "      <th></th>\n",
       "      <th>track_id</th>\n",
       "      <th>dttm</th>\n",
       "      <th>title</th>\n",
       "      <th>language</th>\n",
       "      <th>isrc</th>\n",
       "      <th>genres</th>\n",
       "      <th>duration</th>\n",
       "      <th>lyricId</th>\n",
       "      <th>text</th>\n",
       "      <th>cleared_text</th>\n",
       "      <th>text_lang</th>\n",
       "      <th>original_track_id</th>\n",
       "      <th>track_remake_type</th>\n",
       "    </tr>\n",
       "  </thead>\n",
       "  <tbody>\n",
       "    <tr>\n",
       "      <th>0</th>\n",
       "      <td>c3b9d6a354ca008aa4518329aaa21380</td>\n",
       "      <td>1.639688e+12</td>\n",
       "      <td>Happy New Year</td>\n",
       "      <td>EN</td>\n",
       "      <td>RUB422103970</td>\n",
       "      <td>[DANCE]</td>\n",
       "      <td>161120.0</td>\n",
       "      <td>36777cce0740d1e3d37a5a221c71d859</td>\n",
       "      <td>No more champagne\\nAnd the fireworks are throu...</td>\n",
       "      <td>no more champagne and the fireworks are throug...</td>\n",
       "      <td>EN</td>\n",
       "      <td>None</td>\n",
       "      <td>COVER</td>\n",
       "    </tr>\n",
       "    <tr>\n",
       "      <th>1</th>\n",
       "      <td>c57e3d13bbbf5322584a7e92e6f1f7ff</td>\n",
       "      <td>1.637762e+12</td>\n",
       "      <td>Bad Habits</td>\n",
       "      <td>EN</td>\n",
       "      <td>QZN882178276</td>\n",
       "      <td>[ELECTRONICS]</td>\n",
       "      <td>362260.0</td>\n",
       "      <td>8284927611c6a6fc49ff1ce7b3a88314</td>\n",
       "      <td>Ooh-ooh, ooh, ooh\\n\\nEvery time you come aroun...</td>\n",
       "      <td>ooh ooh ooh ooh every time you come around you...</td>\n",
       "      <td>EN</td>\n",
       "      <td>None</td>\n",
       "      <td>COVER</td>\n",
       "    </tr>\n",
       "    <tr>\n",
       "      <th>2</th>\n",
       "      <td>955f2aafe8717908c140bf122ba4172d</td>\n",
       "      <td>1.637768e+12</td>\n",
       "      <td>Por Esa Loca Vanidad</td>\n",
       "      <td>None</td>\n",
       "      <td>QZNJZ2122549</td>\n",
       "      <td>[FOLK, LATINFOLK]</td>\n",
       "      <td>260000.0</td>\n",
       "      <td>NaN</td>\n",
       "      <td>NaN</td>\n",
       "      <td>NaN</td>\n",
       "      <td>NaN</td>\n",
       "      <td>None</td>\n",
       "      <td>COVER</td>\n",
       "    </tr>\n",
       "    <tr>\n",
       "      <th>3</th>\n",
       "      <td>fae5a077c9956045955dde02143bd8ff</td>\n",
       "      <td>1.637768e+12</td>\n",
       "      <td>Mil Lagrimas</td>\n",
       "      <td>None</td>\n",
       "      <td>QZNJZ2166033</td>\n",
       "      <td>[FOLK, LATINFOLK]</td>\n",
       "      <td>190000.0</td>\n",
       "      <td>NaN</td>\n",
       "      <td>NaN</td>\n",
       "      <td>NaN</td>\n",
       "      <td>NaN</td>\n",
       "      <td>None</td>\n",
       "      <td>COVER</td>\n",
       "    </tr>\n",
       "    <tr>\n",
       "      <th>4</th>\n",
       "      <td>6bede082154d34fc18d9a6744bc95bf5</td>\n",
       "      <td>1.637768e+12</td>\n",
       "      <td>Sexo Humo y Alcohol</td>\n",
       "      <td>None</td>\n",
       "      <td>QZNJZ2122551</td>\n",
       "      <td>[FOLK, LATINFOLK]</td>\n",
       "      <td>203000.0</td>\n",
       "      <td>NaN</td>\n",
       "      <td>NaN</td>\n",
       "      <td>NaN</td>\n",
       "      <td>NaN</td>\n",
       "      <td>None</td>\n",
       "      <td>COVER</td>\n",
       "    </tr>\n",
       "  </tbody>\n",
       "</table>\n",
       "</div>"
      ],
      "text/plain": [
       "                           track_id          dttm                 title  \\\n",
       "0  c3b9d6a354ca008aa4518329aaa21380  1.639688e+12        Happy New Year   \n",
       "1  c57e3d13bbbf5322584a7e92e6f1f7ff  1.637762e+12            Bad Habits   \n",
       "2  955f2aafe8717908c140bf122ba4172d  1.637768e+12  Por Esa Loca Vanidad   \n",
       "3  fae5a077c9956045955dde02143bd8ff  1.637768e+12          Mil Lagrimas   \n",
       "4  6bede082154d34fc18d9a6744bc95bf5  1.637768e+12   Sexo Humo y Alcohol   \n",
       "\n",
       "  language          isrc             genres  duration  \\\n",
       "0       EN  RUB422103970            [DANCE]  161120.0   \n",
       "1       EN  QZN882178276      [ELECTRONICS]  362260.0   \n",
       "2     None  QZNJZ2122549  [FOLK, LATINFOLK]  260000.0   \n",
       "3     None  QZNJZ2166033  [FOLK, LATINFOLK]  190000.0   \n",
       "4     None  QZNJZ2122551  [FOLK, LATINFOLK]  203000.0   \n",
       "\n",
       "                            lyricId  \\\n",
       "0  36777cce0740d1e3d37a5a221c71d859   \n",
       "1  8284927611c6a6fc49ff1ce7b3a88314   \n",
       "2                               NaN   \n",
       "3                               NaN   \n",
       "4                               NaN   \n",
       "\n",
       "                                                text  \\\n",
       "0  No more champagne\\nAnd the fireworks are throu...   \n",
       "1  Ooh-ooh, ooh, ooh\\n\\nEvery time you come aroun...   \n",
       "2                                                NaN   \n",
       "3                                                NaN   \n",
       "4                                                NaN   \n",
       "\n",
       "                                        cleared_text text_lang  \\\n",
       "0  no more champagne and the fireworks are throug...        EN   \n",
       "1  ooh ooh ooh ooh every time you come around you...        EN   \n",
       "2                                                NaN       NaN   \n",
       "3                                                NaN       NaN   \n",
       "4                                                NaN       NaN   \n",
       "\n",
       "  original_track_id track_remake_type  \n",
       "0              None             COVER  \n",
       "1              None             COVER  \n",
       "2              None             COVER  \n",
       "3              None             COVER  \n",
       "4              None             COVER  "
      ]
     },
     "metadata": {},
     "output_type": "display_data"
    },
    {
     "name": "stdout",
     "output_type": "stream",
     "text": [
      "\n",
      "------------------------------------INFO------------------------------------\n",
      "\n",
      "<class 'pandas.core.frame.DataFrame'>\n",
      "Int64Index: 72906 entries, 0 to 72905\n",
      "Data columns (total 13 columns):\n",
      " #   Column             Non-Null Count  Dtype  \n",
      "---  ------             --------------  -----  \n",
      " 0   track_id           72905 non-null  object \n",
      " 1   dttm               72905 non-null  float64\n",
      " 2   title              72905 non-null  object \n",
      " 3   language           22870 non-null  object \n",
      " 4   isrc               72566 non-null  object \n",
      " 5   genres             72905 non-null  object \n",
      " 6   duration           72905 non-null  float64\n",
      " 7   lyricId            11414 non-null  object \n",
      " 8   text               11414 non-null  object \n",
      " 9   cleared_text       11414 non-null  object \n",
      " 10  text_lang          11414 non-null  object \n",
      " 11  original_track_id  5378 non-null   object \n",
      " 12  track_remake_type  72571 non-null  object \n",
      "dtypes: float64(2), object(11)\n",
      "memory usage: 7.8+ MB\n"
     ]
    },
    {
     "data": {
      "text/plain": [
       "None"
      ]
     },
     "metadata": {},
     "output_type": "display_data"
    },
    {
     "name": "stdout",
     "output_type": "stream",
     "text": [
      "----------------------------------DESCRIBE----------------------------------\n"
     ]
    },
    {
     "data": {
      "text/html": [
       "<div>\n",
       "<style scoped>\n",
       "    .dataframe tbody tr th:only-of-type {\n",
       "        vertical-align: middle;\n",
       "    }\n",
       "\n",
       "    .dataframe tbody tr th {\n",
       "        vertical-align: top;\n",
       "    }\n",
       "\n",
       "    .dataframe thead th {\n",
       "        text-align: right;\n",
       "    }\n",
       "</style>\n",
       "<table border=\"1\" class=\"dataframe\">\n",
       "  <thead>\n",
       "    <tr style=\"text-align: right;\">\n",
       "      <th></th>\n",
       "      <th>track_id</th>\n",
       "      <th>dttm</th>\n",
       "      <th>title</th>\n",
       "      <th>language</th>\n",
       "      <th>isrc</th>\n",
       "      <th>genres</th>\n",
       "      <th>duration</th>\n",
       "      <th>lyricId</th>\n",
       "      <th>text</th>\n",
       "      <th>cleared_text</th>\n",
       "      <th>text_lang</th>\n",
       "      <th>original_track_id</th>\n",
       "      <th>track_remake_type</th>\n",
       "    </tr>\n",
       "  </thead>\n",
       "  <tbody>\n",
       "    <tr>\n",
       "      <th>count</th>\n",
       "      <td>72905</td>\n",
       "      <td>7.290500e+04</td>\n",
       "      <td>72905</td>\n",
       "      <td>22870</td>\n",
       "      <td>72566</td>\n",
       "      <td>72905</td>\n",
       "      <td>7.290500e+04</td>\n",
       "      <td>11414</td>\n",
       "      <td>11414</td>\n",
       "      <td>11414</td>\n",
       "      <td>11414</td>\n",
       "      <td>5378</td>\n",
       "      <td>72571</td>\n",
       "    </tr>\n",
       "    <tr>\n",
       "      <th>unique</th>\n",
       "      <td>71768</td>\n",
       "      <td>NaN</td>\n",
       "      <td>45462</td>\n",
       "      <td>85</td>\n",
       "      <td>71283</td>\n",
       "      <td>232</td>\n",
       "      <td>NaN</td>\n",
       "      <td>10915</td>\n",
       "      <td>10644</td>\n",
       "      <td>10386</td>\n",
       "      <td>47</td>\n",
       "      <td>4468</td>\n",
       "      <td>2</td>\n",
       "    </tr>\n",
       "    <tr>\n",
       "      <th>top</th>\n",
       "      <td>b891000882f4a612190142861b5c038b</td>\n",
       "      <td>NaN</td>\n",
       "      <td>Morena</td>\n",
       "      <td>EN</td>\n",
       "      <td>US4BR0500030</td>\n",
       "      <td>[FOLK, LATINFOLK]</td>\n",
       "      <td>NaN</td>\n",
       "      <td>6fe05ce48761f833737487cd7a499cd3</td>\n",
       "      <td>Twenty-five years and my life is still\\nI'm tr...</td>\n",
       "      <td></td>\n",
       "      <td>EN</td>\n",
       "      <td>f3e5e9db509f9b6f6d93b9c38e4e1324</td>\n",
       "      <td>COVER</td>\n",
       "    </tr>\n",
       "    <tr>\n",
       "      <th>freq</th>\n",
       "      <td>24</td>\n",
       "      <td>NaN</td>\n",
       "      <td>81</td>\n",
       "      <td>16121</td>\n",
       "      <td>24</td>\n",
       "      <td>18399</td>\n",
       "      <td>NaN</td>\n",
       "      <td>9</td>\n",
       "      <td>15</td>\n",
       "      <td>161</td>\n",
       "      <td>7000</td>\n",
       "      <td>41</td>\n",
       "      <td>67770</td>\n",
       "    </tr>\n",
       "    <tr>\n",
       "      <th>mean</th>\n",
       "      <td>NaN</td>\n",
       "      <td>1.582337e+12</td>\n",
       "      <td>NaN</td>\n",
       "      <td>NaN</td>\n",
       "      <td>NaN</td>\n",
       "      <td>NaN</td>\n",
       "      <td>2.051841e+05</td>\n",
       "      <td>NaN</td>\n",
       "      <td>NaN</td>\n",
       "      <td>NaN</td>\n",
       "      <td>NaN</td>\n",
       "      <td>NaN</td>\n",
       "      <td>NaN</td>\n",
       "    </tr>\n",
       "    <tr>\n",
       "      <th>std</th>\n",
       "      <td>NaN</td>\n",
       "      <td>9.291748e+10</td>\n",
       "      <td>NaN</td>\n",
       "      <td>NaN</td>\n",
       "      <td>NaN</td>\n",
       "      <td>NaN</td>\n",
       "      <td>8.537061e+04</td>\n",
       "      <td>NaN</td>\n",
       "      <td>NaN</td>\n",
       "      <td>NaN</td>\n",
       "      <td>NaN</td>\n",
       "      <td>NaN</td>\n",
       "      <td>NaN</td>\n",
       "    </tr>\n",
       "    <tr>\n",
       "      <th>min</th>\n",
       "      <td>NaN</td>\n",
       "      <td>1.249926e+12</td>\n",
       "      <td>NaN</td>\n",
       "      <td>NaN</td>\n",
       "      <td>NaN</td>\n",
       "      <td>NaN</td>\n",
       "      <td>0.000000e+00</td>\n",
       "      <td>NaN</td>\n",
       "      <td>NaN</td>\n",
       "      <td>NaN</td>\n",
       "      <td>NaN</td>\n",
       "      <td>NaN</td>\n",
       "      <td>NaN</td>\n",
       "    </tr>\n",
       "    <tr>\n",
       "      <th>25%</th>\n",
       "      <td>NaN</td>\n",
       "      <td>1.564349e+12</td>\n",
       "      <td>NaN</td>\n",
       "      <td>NaN</td>\n",
       "      <td>NaN</td>\n",
       "      <td>NaN</td>\n",
       "      <td>1.616300e+05</td>\n",
       "      <td>NaN</td>\n",
       "      <td>NaN</td>\n",
       "      <td>NaN</td>\n",
       "      <td>NaN</td>\n",
       "      <td>NaN</td>\n",
       "      <td>NaN</td>\n",
       "    </tr>\n",
       "    <tr>\n",
       "      <th>50%</th>\n",
       "      <td>NaN</td>\n",
       "      <td>1.620078e+12</td>\n",
       "      <td>NaN</td>\n",
       "      <td>NaN</td>\n",
       "      <td>NaN</td>\n",
       "      <td>NaN</td>\n",
       "      <td>1.996500e+05</td>\n",
       "      <td>NaN</td>\n",
       "      <td>NaN</td>\n",
       "      <td>NaN</td>\n",
       "      <td>NaN</td>\n",
       "      <td>NaN</td>\n",
       "      <td>NaN</td>\n",
       "    </tr>\n",
       "    <tr>\n",
       "      <th>75%</th>\n",
       "      <td>NaN</td>\n",
       "      <td>1.636756e+12</td>\n",
       "      <td>NaN</td>\n",
       "      <td>NaN</td>\n",
       "      <td>NaN</td>\n",
       "      <td>NaN</td>\n",
       "      <td>2.392800e+05</td>\n",
       "      <td>NaN</td>\n",
       "      <td>NaN</td>\n",
       "      <td>NaN</td>\n",
       "      <td>NaN</td>\n",
       "      <td>NaN</td>\n",
       "      <td>NaN</td>\n",
       "    </tr>\n",
       "    <tr>\n",
       "      <th>max</th>\n",
       "      <td>NaN</td>\n",
       "      <td>1.697663e+12</td>\n",
       "      <td>NaN</td>\n",
       "      <td>NaN</td>\n",
       "      <td>NaN</td>\n",
       "      <td>NaN</td>\n",
       "      <td>5.487300e+06</td>\n",
       "      <td>NaN</td>\n",
       "      <td>NaN</td>\n",
       "      <td>NaN</td>\n",
       "      <td>NaN</td>\n",
       "      <td>NaN</td>\n",
       "      <td>NaN</td>\n",
       "    </tr>\n",
       "  </tbody>\n",
       "</table>\n",
       "</div>"
      ],
      "text/plain": [
       "                                track_id          dttm   title language  \\\n",
       "count                              72905  7.290500e+04   72905    22870   \n",
       "unique                             71768           NaN   45462       85   \n",
       "top     b891000882f4a612190142861b5c038b           NaN  Morena       EN   \n",
       "freq                                  24           NaN      81    16121   \n",
       "mean                                 NaN  1.582337e+12     NaN      NaN   \n",
       "std                                  NaN  9.291748e+10     NaN      NaN   \n",
       "min                                  NaN  1.249926e+12     NaN      NaN   \n",
       "25%                                  NaN  1.564349e+12     NaN      NaN   \n",
       "50%                                  NaN  1.620078e+12     NaN      NaN   \n",
       "75%                                  NaN  1.636756e+12     NaN      NaN   \n",
       "max                                  NaN  1.697663e+12     NaN      NaN   \n",
       "\n",
       "                isrc             genres      duration  \\\n",
       "count          72566              72905  7.290500e+04   \n",
       "unique         71283                232           NaN   \n",
       "top     US4BR0500030  [FOLK, LATINFOLK]           NaN   \n",
       "freq              24              18399           NaN   \n",
       "mean             NaN                NaN  2.051841e+05   \n",
       "std              NaN                NaN  8.537061e+04   \n",
       "min              NaN                NaN  0.000000e+00   \n",
       "25%              NaN                NaN  1.616300e+05   \n",
       "50%              NaN                NaN  1.996500e+05   \n",
       "75%              NaN                NaN  2.392800e+05   \n",
       "max              NaN                NaN  5.487300e+06   \n",
       "\n",
       "                                 lyricId  \\\n",
       "count                              11414   \n",
       "unique                             10915   \n",
       "top     6fe05ce48761f833737487cd7a499cd3   \n",
       "freq                                   9   \n",
       "mean                                 NaN   \n",
       "std                                  NaN   \n",
       "min                                  NaN   \n",
       "25%                                  NaN   \n",
       "50%                                  NaN   \n",
       "75%                                  NaN   \n",
       "max                                  NaN   \n",
       "\n",
       "                                                     text cleared_text  \\\n",
       "count                                               11414        11414   \n",
       "unique                                              10644        10386   \n",
       "top     Twenty-five years and my life is still\\nI'm tr...                \n",
       "freq                                                   15          161   \n",
       "mean                                                  NaN          NaN   \n",
       "std                                                   NaN          NaN   \n",
       "min                                                   NaN          NaN   \n",
       "25%                                                   NaN          NaN   \n",
       "50%                                                   NaN          NaN   \n",
       "75%                                                   NaN          NaN   \n",
       "max                                                   NaN          NaN   \n",
       "\n",
       "       text_lang                 original_track_id track_remake_type  \n",
       "count      11414                              5378             72571  \n",
       "unique        47                              4468                 2  \n",
       "top           EN  f3e5e9db509f9b6f6d93b9c38e4e1324             COVER  \n",
       "freq        7000                                41             67770  \n",
       "mean         NaN                               NaN               NaN  \n",
       "std          NaN                               NaN               NaN  \n",
       "min          NaN                               NaN               NaN  \n",
       "25%          NaN                               NaN               NaN  \n",
       "50%          NaN                               NaN               NaN  \n",
       "75%          NaN                               NaN               NaN  \n",
       "max          NaN                               NaN               NaN  "
      ]
     },
     "metadata": {},
     "output_type": "display_data"
    }
   ],
   "source": [
    "get_info(merged_data)\n"
   ]
  },
  {
   "cell_type": "code",
   "execution_count": 13,
   "id": "6dc61f84",
   "metadata": {
    "hidden": true
   },
   "outputs": [
    {
     "data": {
      "text/html": [
       "<div>\n",
       "<style scoped>\n",
       "    .dataframe tbody tr th:only-of-type {\n",
       "        vertical-align: middle;\n",
       "    }\n",
       "\n",
       "    .dataframe tbody tr th {\n",
       "        vertical-align: top;\n",
       "    }\n",
       "\n",
       "    .dataframe thead th {\n",
       "        text-align: right;\n",
       "    }\n",
       "</style>\n",
       "<table border=\"1\" class=\"dataframe\">\n",
       "  <thead>\n",
       "    <tr style=\"text-align: right;\">\n",
       "      <th></th>\n",
       "      <th>track_id</th>\n",
       "      <th>dttm</th>\n",
       "      <th>title</th>\n",
       "      <th>language</th>\n",
       "      <th>isrc</th>\n",
       "      <th>genres</th>\n",
       "      <th>duration</th>\n",
       "      <th>lyricId</th>\n",
       "      <th>text</th>\n",
       "      <th>cleared_text</th>\n",
       "      <th>text_lang</th>\n",
       "      <th>original_track_id</th>\n",
       "      <th>track_remake_type</th>\n",
       "    </tr>\n",
       "  </thead>\n",
       "  <tbody>\n",
       "    <tr>\n",
       "      <th>44796</th>\n",
       "      <td>None</td>\n",
       "      <td>NaN</td>\n",
       "      <td>None</td>\n",
       "      <td>None</td>\n",
       "      <td>None</td>\n",
       "      <td>None</td>\n",
       "      <td>NaN</td>\n",
       "      <td>NaN</td>\n",
       "      <td>NaN</td>\n",
       "      <td>NaN</td>\n",
       "      <td>NaN</td>\n",
       "      <td>NaN</td>\n",
       "      <td>NaN</td>\n",
       "    </tr>\n",
       "  </tbody>\n",
       "</table>\n",
       "</div>"
      ],
      "text/plain": [
       "      track_id  dttm title language  isrc genres  duration lyricId text  \\\n",
       "44796     None   NaN  None     None  None   None       NaN     NaN  NaN   \n",
       "\n",
       "      cleared_text text_lang original_track_id track_remake_type  \n",
       "44796          NaN       NaN               NaN               NaN  "
      ]
     },
     "execution_count": 13,
     "metadata": {},
     "output_type": "execute_result"
    }
   ],
   "source": [
    "# очень странная строчка))\n",
    "merged_data[merged_data[\"duration\"].isna()]"
   ]
  },
  {
   "cell_type": "markdown",
   "id": "21342194",
   "metadata": {
    "hidden": true
   },
   "source": [
    "Сразу удалим дату для изежания утечки данных"
   ]
  },
  {
   "cell_type": "code",
   "execution_count": 14,
   "id": "9feb9e46",
   "metadata": {
    "hidden": true
   },
   "outputs": [],
   "source": [
    "# дропнем дату и эту строку с пропусками\n",
    "merged_data = merged_data.drop(\"dttm\", axis=1)\n",
    "merged_data = merged_data.drop(44796, axis=0)"
   ]
  },
  {
   "cell_type": "code",
   "execution_count": 15,
   "id": "fae17048",
   "metadata": {
    "hidden": true
   },
   "outputs": [],
   "source": [
    "# приведем столбец duration к типу int\n",
    "merged_data[\"duration\"] = merged_data[\"duration\"].astype(\"int\")"
   ]
  },
  {
   "cell_type": "markdown",
   "id": "579d87bf",
   "metadata": {
    "heading_collapsed": true
   },
   "source": [
    "## Предобработка"
   ]
  },
  {
   "cell_type": "markdown",
   "id": "0b250613",
   "metadata": {
    "hidden": true
   },
   "source": [
    "ЭТОТ ЭТАП МОЖНО СКИПАТЬ, ПРЕДОБРАБОТАННЫЕ ДАННЫЕ СЧИТАНЫ В НАЧАЛЕ ТЕТРАДКИ!"
   ]
  },
  {
   "cell_type": "code",
   "execution_count": 33,
   "id": "928e556d",
   "metadata": {
    "hidden": true
   },
   "outputs": [
    {
     "ename": "NameError",
     "evalue": "name 'merged_data' is not defined",
     "output_type": "error",
     "traceback": [
      "\u001b[1;31m---------------------------------------------------------------------------\u001b[0m",
      "\u001b[1;31mNameError\u001b[0m                                 Traceback (most recent call last)",
      "\u001b[1;32m<ipython-input-33-d601750f22c0>\u001b[0m in \u001b[0;36m<module>\u001b[1;34m\u001b[0m\n\u001b[1;32m----> 1\u001b[1;33m \u001b[0mmerged_data\u001b[0m\u001b[1;33m[\u001b[0m\u001b[1;34m\"track_remake_type\"\u001b[0m\u001b[1;33m]\u001b[0m\u001b[1;33m.\u001b[0m\u001b[0mvalue_counts\u001b[0m\u001b[1;33m(\u001b[0m\u001b[1;33m)\u001b[0m\u001b[1;33m\u001b[0m\u001b[1;33m\u001b[0m\u001b[0m\n\u001b[0m",
      "\u001b[1;31mNameError\u001b[0m: name 'merged_data' is not defined"
     ]
    }
   ],
   "source": [
    "merged_data[\"track_remake_type\"].value_counts()\n"
   ]
  },
  {
   "cell_type": "markdown",
   "id": "b2f3c2f8",
   "metadata": {
    "hidden": true
   },
   "source": [
    "Как и ожидалось, присутствует серьезный дисбаланс классов. Так получилось потому что оригиналов куда меньше чем каверов на них, все соответствует действительности."
   ]
  },
  {
   "cell_type": "markdown",
   "id": "6608cab2",
   "metadata": {
    "hidden": true
   },
   "source": [
    "Для начала не будем трогать текст. Удалим столбцы с большим количеством пропусков и посмотрим как отреагирует на это модель."
   ]
  },
  {
   "cell_type": "code",
   "execution_count": 17,
   "id": "bec91a2a",
   "metadata": {
    "hidden": true
   },
   "outputs": [],
   "source": [
    "# удалим столбцы, в которых больше половины пропусков\n",
    "prepared_dt = merged_data.dropna(thresh=merged_data.shape[0] / 2, axis=1)\n",
    "prepared_dt = prepared_dt.drop(\"track_id\", axis=1)"
   ]
  },
  {
   "cell_type": "code",
   "execution_count": 18,
   "id": "a95afb0f",
   "metadata": {
    "hidden": true
   },
   "outputs": [],
   "source": [
    "# удалим остальные пропуски\n",
    "prepared_dt = prepared_dt[~prepared_dt[\"isrc\"].isna()]\n",
    "prepared_dt = prepared_dt[~prepared_dt[\"track_remake_type\"].isna()]"
   ]
  },
  {
   "cell_type": "code",
   "execution_count": 19,
   "id": "b551302a",
   "metadata": {
    "hidden": true
   },
   "outputs": [],
   "source": [
    "# оставим только один жанр, а не лист\n",
    "prepared_dt[\"genres\"] = prepared_dt[\"genres\"].apply(leave_one_genre)"
   ]
  },
  {
   "cell_type": "code",
   "execution_count": 20,
   "id": "619e6a4e",
   "metadata": {
    "hidden": true
   },
   "outputs": [],
   "source": [
    "cat_features = [\"title\", \"isrc\", \"genres\"]\n",
    "\n",
    "for feature in cat_features:\n",
    "    prepared_dt[feature] = prepared_dt[feature].astype(\"category\")"
   ]
  },
  {
   "cell_type": "code",
   "execution_count": 21,
   "id": "0db320c9",
   "metadata": {
    "hidden": true
   },
   "outputs": [
    {
     "name": "stdout",
     "output_type": "stream",
     "text": [
      "<class 'pandas.core.frame.DataFrame'>\n",
      "Int64Index: 72242 entries, 0 to 72905\n",
      "Data columns (total 5 columns):\n",
      " #   Column             Non-Null Count  Dtype   \n",
      "---  ------             --------------  -----   \n",
      " 0   title              72242 non-null  category\n",
      " 1   isrc               72242 non-null  category\n",
      " 2   genres             72242 non-null  category\n",
      " 3   duration           72242 non-null  int32   \n",
      " 4   track_remake_type  72242 non-null  object  \n",
      "dtypes: category(3), int32(1), object(1)\n",
      "memory usage: 5.9+ MB\n"
     ]
    }
   ],
   "source": [
    "prepared_dt.info()\n"
   ]
  },
  {
   "cell_type": "markdown",
   "id": "6f548fc5",
   "metadata": {},
   "source": [
    "## Модель на метаданных"
   ]
  },
  {
   "cell_type": "markdown",
   "id": "869af411",
   "metadata": {},
   "source": [
    "### Результаты на кросс валидации"
   ]
  },
  {
   "cell_type": "code",
   "execution_count": 39,
   "id": "7d5d05cb",
   "metadata": {},
   "outputs": [],
   "source": [
    "cat_features = [\"title\", \"language\", \"genres\", \"year\"]\n",
    "\n",
    "for feature in cat_features:\n",
    "    parsed_data[feature] = parsed_data[feature].astype(\"category\")"
   ]
  },
  {
   "cell_type": "code",
   "execution_count": 49,
   "id": "cd30f226",
   "metadata": {},
   "outputs": [
    {
     "data": {
      "text/html": [
       "<div>\n",
       "<style scoped>\n",
       "    .dataframe tbody tr th:only-of-type {\n",
       "        vertical-align: middle;\n",
       "    }\n",
       "\n",
       "    .dataframe tbody tr th {\n",
       "        vertical-align: top;\n",
       "    }\n",
       "\n",
       "    .dataframe thead th {\n",
       "        text-align: right;\n",
       "    }\n",
       "</style>\n",
       "<table border=\"1\" class=\"dataframe\">\n",
       "  <thead>\n",
       "    <tr style=\"text-align: right;\">\n",
       "      <th></th>\n",
       "      <th>title</th>\n",
       "      <th>language</th>\n",
       "      <th>genres</th>\n",
       "      <th>duration</th>\n",
       "      <th>track_remake_type</th>\n",
       "      <th>year</th>\n",
       "    </tr>\n",
       "  </thead>\n",
       "  <tbody>\n",
       "    <tr>\n",
       "      <th>0</th>\n",
       "      <td>Proud Mary</td>\n",
       "      <td>EN</td>\n",
       "      <td>ROCK</td>\n",
       "      <td>187220</td>\n",
       "      <td>1</td>\n",
       "      <td>1969</td>\n",
       "    </tr>\n",
       "    <tr>\n",
       "      <th>1</th>\n",
       "      <td>Proud Mary</td>\n",
       "      <td>EN</td>\n",
       "      <td>ROCK</td>\n",
       "      <td>187220</td>\n",
       "      <td>1</td>\n",
       "      <td>1969</td>\n",
       "    </tr>\n",
       "    <tr>\n",
       "      <th>2</th>\n",
       "      <td>Fortunate Son</td>\n",
       "      <td>EN</td>\n",
       "      <td>ROCK</td>\n",
       "      <td>137780</td>\n",
       "      <td>1</td>\n",
       "      <td>1969</td>\n",
       "    </tr>\n",
       "    <tr>\n",
       "      <th>3</th>\n",
       "      <td>La Camisa Negra</td>\n",
       "      <td>ES</td>\n",
       "      <td>POP</td>\n",
       "      <td>216840</td>\n",
       "      <td>1</td>\n",
       "      <td>2004</td>\n",
       "    </tr>\n",
       "    <tr>\n",
       "      <th>4</th>\n",
       "      <td>The Way I Are</td>\n",
       "      <td>EN</td>\n",
       "      <td>FOREIGNRAP</td>\n",
       "      <td>179660</td>\n",
       "      <td>1</td>\n",
       "      <td>2007</td>\n",
       "    </tr>\n",
       "    <tr>\n",
       "      <th>...</th>\n",
       "      <td>...</td>\n",
       "      <td>...</td>\n",
       "      <td>...</td>\n",
       "      <td>...</td>\n",
       "      <td>...</td>\n",
       "      <td>...</td>\n",
       "    </tr>\n",
       "    <tr>\n",
       "      <th>72566</th>\n",
       "      <td>Милый, прощай</td>\n",
       "      <td>RU</td>\n",
       "      <td>POP</td>\n",
       "      <td>178980</td>\n",
       "      <td>1</td>\n",
       "      <td>2023</td>\n",
       "    </tr>\n",
       "    <tr>\n",
       "      <th>72567</th>\n",
       "      <td>Habits (Stay Hight)</td>\n",
       "      <td>EN</td>\n",
       "      <td>ELECTRONICS</td>\n",
       "      <td>149570</td>\n",
       "      <td>0</td>\n",
       "      <td>2023</td>\n",
       "    </tr>\n",
       "    <tr>\n",
       "      <th>72568</th>\n",
       "      <td>Arcade</td>\n",
       "      <td>EN</td>\n",
       "      <td>FOREIGNBARD</td>\n",
       "      <td>201580</td>\n",
       "      <td>0</td>\n",
       "      <td>2023</td>\n",
       "    </tr>\n",
       "    <tr>\n",
       "      <th>72569</th>\n",
       "      <td>Май</td>\n",
       "      <td>RU</td>\n",
       "      <td>RUSRAP</td>\n",
       "      <td>156870</td>\n",
       "      <td>1</td>\n",
       "      <td>2000</td>\n",
       "    </tr>\n",
       "    <tr>\n",
       "      <th>72570</th>\n",
       "      <td>Не улетай</td>\n",
       "      <td>RU</td>\n",
       "      <td>POP</td>\n",
       "      <td>148500</td>\n",
       "      <td>1</td>\n",
       "      <td>2023</td>\n",
       "    </tr>\n",
       "  </tbody>\n",
       "</table>\n",
       "<p>72242 rows × 6 columns</p>\n",
       "</div>"
      ],
      "text/plain": [
       "                     title language       genres  duration  track_remake_type  \\\n",
       "0               Proud Mary       EN         ROCK    187220                  1   \n",
       "1               Proud Mary       EN         ROCK    187220                  1   \n",
       "2            Fortunate Son       EN         ROCK    137780                  1   \n",
       "3          La Camisa Negra       ES          POP    216840                  1   \n",
       "4            The Way I Are       EN   FOREIGNRAP    179660                  1   \n",
       "...                    ...      ...          ...       ...                ...   \n",
       "72566        Милый, прощай       RU          POP    178980                  1   \n",
       "72567  Habits (Stay Hight)       EN  ELECTRONICS    149570                  0   \n",
       "72568               Arcade       EN  FOREIGNBARD    201580                  0   \n",
       "72569                  Май       RU       RUSRAP    156870                  1   \n",
       "72570            Не улетай       RU          POP    148500                  1   \n",
       "\n",
       "       year  \n",
       "0      1969  \n",
       "1      1969  \n",
       "2      1969  \n",
       "3      2004  \n",
       "4      2007  \n",
       "...     ...  \n",
       "72566  2023  \n",
       "72567  2023  \n",
       "72568  2023  \n",
       "72569  2000  \n",
       "72570  2023  \n",
       "\n",
       "[72242 rows x 6 columns]"
      ]
     },
     "execution_count": 49,
     "metadata": {},
     "output_type": "execute_result"
    }
   ],
   "source": [
    "parsed_data\n"
   ]
  },
  {
   "cell_type": "code",
   "execution_count": 40,
   "id": "76ba707e",
   "metadata": {},
   "outputs": [],
   "source": [
    "# Обозначим признак и таргет\n",
    "X = parsed_data.drop(\"track_remake_type\", axis=1)\n",
    "y = parsed_data[\"track_remake_type\"]\n",
    "\n",
    "# делим на трейн и тест, сохраним отношение классов stratify=y\n",
    "X_train, X_test, y_train, y_test = train_test_split(\n",
    "    X, y, stratify=y, test_size=0.2, random_state=RANDOM_STATE\n",
    ")\n"
   ]
  },
  {
   "cell_type": "code",
   "execution_count": 41,
   "id": "ba5f2349",
   "metadata": {},
   "outputs": [
    {
     "name": "stdout",
     "output_type": "stream",
     "text": [
      "X.shape: (72242, 5), y.shape: (72242,)\n",
      "--------------------------------------------------\n",
      "X_train.shape: (57793, 5), y_train.shape: (57793,)\n",
      "X_test.shape: (14449, 5), y_test.shape: (14449,)\n"
     ]
    }
   ],
   "source": [
    "print(f\"X.shape: {X.shape}, y.shape: {y.shape}\")\n",
    "print(\"-\" * 50)\n",
    "print(f\"X_train.shape: {X_train.shape}, y_train.shape: {y_train.shape}\")\n",
    "print(f\"X_test.shape: {X_test.shape}, y_test.shape: {y_test.shape}\")\n"
   ]
  },
  {
   "cell_type": "code",
   "execution_count": 44,
   "id": "c8f70a55",
   "metadata": {},
   "outputs": [
    {
     "name": "stdout",
     "output_type": "stream",
     "text": [
      "[LightGBM] [Warning] Categorical features with more bins than the configured maximum bin number found.\n",
      "[LightGBM] [Warning] For categorical features, max_bin and max_bin_by_feature may be ignored with a large number of categories.\n",
      "[LightGBM] [Info] Number of positive: 3006, number of negative: 43228\n",
      "[LightGBM] [Info] Auto-choosing col-wise multi-threading, the overhead of testing was 0.001027 seconds.\n",
      "You can set `force_col_wise=true` to remove the overhead.\n",
      "[LightGBM] [Info] Total Bins 3060\n",
      "[LightGBM] [Info] Number of data points in the train set: 46234, number of used features: 5\n",
      "[LightGBM] [Info] [binary:BoostFromScore]: pavg=0.500000 -> initscore=0.000000\n",
      "[LightGBM] [Info] Start training from score 0.000000\n",
      "[LightGBM] [Warning] Categorical features with more bins than the configured maximum bin number found.\n",
      "[LightGBM] [Warning] For categorical features, max_bin and max_bin_by_feature may be ignored with a large number of categories.\n",
      "[LightGBM] [Info] Number of positive: 3005, number of negative: 43229\n",
      "[LightGBM] [Info] Auto-choosing col-wise multi-threading, the overhead of testing was 0.000998 seconds.\n",
      "You can set `force_col_wise=true` to remove the overhead.\n",
      "[LightGBM] [Info] Total Bins 3033\n",
      "[LightGBM] [Info] Number of data points in the train set: 46234, number of used features: 5\n",
      "[LightGBM] [Info] [binary:BoostFromScore]: pavg=0.500000 -> initscore=-0.000000\n",
      "[LightGBM] [Info] Start training from score -0.000000\n",
      "[LightGBM] [Warning] Categorical features with more bins than the configured maximum bin number found.\n",
      "[LightGBM] [Warning] For categorical features, max_bin and max_bin_by_feature may be ignored with a large number of categories.\n",
      "[LightGBM] [Info] Number of positive: 3005, number of negative: 43229\n",
      "[LightGBM] [Info] Auto-choosing col-wise multi-threading, the overhead of testing was 0.000918 seconds.\n",
      "You can set `force_col_wise=true` to remove the overhead.\n",
      "[LightGBM] [Info] Total Bins 3033\n",
      "[LightGBM] [Info] Number of data points in the train set: 46234, number of used features: 5\n",
      "[LightGBM] [Info] [binary:BoostFromScore]: pavg=0.500000 -> initscore=-0.000000\n",
      "[LightGBM] [Info] Start training from score -0.000000\n",
      "[LightGBM] [Warning] Categorical features with more bins than the configured maximum bin number found.\n",
      "[LightGBM] [Warning] For categorical features, max_bin and max_bin_by_feature may be ignored with a large number of categories.\n",
      "[LightGBM] [Info] Number of positive: 3006, number of negative: 43229\n",
      "[LightGBM] [Info] Auto-choosing col-wise multi-threading, the overhead of testing was 0.001028 seconds.\n",
      "You can set `force_col_wise=true` to remove the overhead.\n",
      "[LightGBM] [Info] Total Bins 3028\n",
      "[LightGBM] [Info] Number of data points in the train set: 46235, number of used features: 5\n",
      "[LightGBM] [Info] [binary:BoostFromScore]: pavg=0.500000 -> initscore=-0.000000\n",
      "[LightGBM] [Info] Start training from score -0.000000\n",
      "[LightGBM] [Warning] Categorical features with more bins than the configured maximum bin number found.\n",
      "[LightGBM] [Warning] For categorical features, max_bin and max_bin_by_feature may be ignored with a large number of categories.\n",
      "[LightGBM] [Info] Number of positive: 3006, number of negative: 43229\n",
      "[LightGBM] [Info] Auto-choosing col-wise multi-threading, the overhead of testing was 0.001082 seconds.\n",
      "You can set `force_col_wise=true` to remove the overhead.\n",
      "[LightGBM] [Info] Total Bins 3061\n",
      "[LightGBM] [Info] Number of data points in the train set: 46235, number of used features: 5\n",
      "[LightGBM] [Info] [binary:BoostFromScore]: pavg=0.500000 -> initscore=-0.000000\n",
      "[LightGBM] [Info] Start training from score -0.000000\n",
      "[LightGBM] [Warning] Categorical features with more bins than the configured maximum bin number found.\n",
      "[LightGBM] [Warning] For categorical features, max_bin and max_bin_by_feature may be ignored with a large number of categories.\n",
      "[LightGBM] [Info] Number of positive: 3006, number of negative: 43228\n",
      "[LightGBM] [Info] Auto-choosing col-wise multi-threading, the overhead of testing was 0.000698 seconds.\n",
      "You can set `force_col_wise=true` to remove the overhead.\n",
      "[LightGBM] [Info] Total Bins 3060\n",
      "[LightGBM] [Info] Number of data points in the train set: 46234, number of used features: 5\n",
      "[LightGBM] [Info] [binary:BoostFromScore]: pavg=0.500000 -> initscore=0.000000\n",
      "[LightGBM] [Info] Start training from score 0.000000\n",
      "[LightGBM] [Warning] Categorical features with more bins than the configured maximum bin number found.\n",
      "[LightGBM] [Warning] For categorical features, max_bin and max_bin_by_feature may be ignored with a large number of categories.\n",
      "[LightGBM] [Info] Number of positive: 3005, number of negative: 43229\n",
      "[LightGBM] [Info] Auto-choosing col-wise multi-threading, the overhead of testing was 0.000674 seconds.\n",
      "You can set `force_col_wise=true` to remove the overhead.\n",
      "[LightGBM] [Info] Total Bins 3033\n",
      "[LightGBM] [Info] Number of data points in the train set: 46234, number of used features: 5\n",
      "[LightGBM] [Info] [binary:BoostFromScore]: pavg=0.500000 -> initscore=-0.000000\n",
      "[LightGBM] [Info] Start training from score -0.000000\n",
      "[LightGBM] [Warning] Categorical features with more bins than the configured maximum bin number found.\n",
      "[LightGBM] [Warning] For categorical features, max_bin and max_bin_by_feature may be ignored with a large number of categories.\n",
      "[LightGBM] [Info] Number of positive: 3005, number of negative: 43229\n",
      "[LightGBM] [Info] Auto-choosing col-wise multi-threading, the overhead of testing was 0.000934 seconds.\n",
      "You can set `force_col_wise=true` to remove the overhead.\n",
      "[LightGBM] [Info] Total Bins 3033\n",
      "[LightGBM] [Info] Number of data points in the train set: 46234, number of used features: 5\n",
      "[LightGBM] [Info] [binary:BoostFromScore]: pavg=0.500000 -> initscore=-0.000000\n",
      "[LightGBM] [Info] Start training from score -0.000000\n",
      "[LightGBM] [Warning] Categorical features with more bins than the configured maximum bin number found.\n",
      "[LightGBM] [Warning] For categorical features, max_bin and max_bin_by_feature may be ignored with a large number of categories.\n",
      "[LightGBM] [Info] Number of positive: 3006, number of negative: 43229\n",
      "[LightGBM] [Info] Auto-choosing col-wise multi-threading, the overhead of testing was 0.001108 seconds.\n",
      "You can set `force_col_wise=true` to remove the overhead.\n",
      "[LightGBM] [Info] Total Bins 3028\n",
      "[LightGBM] [Info] Number of data points in the train set: 46235, number of used features: 5\n",
      "[LightGBM] [Info] [binary:BoostFromScore]: pavg=0.500000 -> initscore=-0.000000\n",
      "[LightGBM] [Info] Start training from score -0.000000\n",
      "[LightGBM] [Warning] Categorical features with more bins than the configured maximum bin number found.\n",
      "[LightGBM] [Warning] For categorical features, max_bin and max_bin_by_feature may be ignored with a large number of categories.\n",
      "[LightGBM] [Info] Number of positive: 3006, number of negative: 43229\n",
      "[LightGBM] [Info] Auto-choosing col-wise multi-threading, the overhead of testing was 0.001106 seconds.\n",
      "You can set `force_col_wise=true` to remove the overhead.\n",
      "[LightGBM] [Info] Total Bins 3061\n",
      "[LightGBM] [Info] Number of data points in the train set: 46235, number of used features: 5\n",
      "[LightGBM] [Info] [binary:BoostFromScore]: pavg=0.500000 -> initscore=-0.000000\n",
      "[LightGBM] [Info] Start training from score -0.000000\n",
      "----------------------------------------------------------------------------------------------------\n",
      "Среднее значение  ROC AUC: 0.97\n",
      "Среднее значение ACCURACY: 0.94\n",
      "Wall time: 4.18 s\n"
     ]
    }
   ],
   "source": [
    "%%time\n",
    "\n",
    "# создаем модель\n",
    "lgbm_model = LGBMClassifier(class_weight='balanced', n_jobs=-1, random_state=RANDOM_STATE)\n",
    "\n",
    "# Вычисляем метрику ROC AUC и Accuracy с помощью кросс-валидации\n",
    "roc_auc_scores = cross_val_score(lgbm_model, X_train, y_train, cv=5, scoring='roc_auc')\n",
    "accuracy_scores = cross_val_score(lgbm_model, X_train, y_train, cv=5, scoring='accuracy')\n",
    "\n",
    "# Выводим средние значения метрик\n",
    "print('-' * 100)\n",
    "print(f\"Среднее значение  ROC AUC: {roc_auc_scores.mean():.2f}\")\n",
    "print(f\"Среднее значение ACCURACY: {accuracy_scores.mean():.2f}\")"
   ]
  },
  {
   "cell_type": "markdown",
   "id": "74196fee",
   "metadata": {},
   "source": [
    "### Проверка на тестовой выборке"
   ]
  },
  {
   "cell_type": "code",
   "execution_count": 51,
   "id": "444ab61b",
   "metadata": {},
   "outputs": [
    {
     "name": "stdout",
     "output_type": "stream",
     "text": [
      "[LightGBM] [Warning] Categorical features with more bins than the configured maximum bin number found.\n",
      "[LightGBM] [Warning] For categorical features, max_bin and max_bin_by_feature may be ignored with a large number of categories.\n",
      "[LightGBM] [Info] Number of positive: 3757, number of negative: 54036\n",
      "[LightGBM] [Info] Auto-choosing col-wise multi-threading, the overhead of testing was 0.000787 seconds.\n",
      "You can set `force_col_wise=true` to remove the overhead.\n",
      "[LightGBM] [Info] Total Bins 3859\n",
      "[LightGBM] [Info] Number of data points in the train set: 57793, number of used features: 5\n",
      "[LightGBM] [Info] [binary:BoostFromScore]: pavg=0.500000 -> initscore=-0.000000\n",
      "[LightGBM] [Info] Start training from score -0.000000\n",
      "----------------------------------------------------------------------------------------------------\n",
      "ACCURACY: 0.94\n",
      " ROC AUC: 0.98\n",
      "Wall time: 539 ms\n"
     ]
    }
   ],
   "source": [
    "%%time\n",
    "\n",
    "lgbm_model.fit(\n",
    "    X_train, y_train, \n",
    "    categorical_feature=cat_features,\n",
    "    eval_set=(X_test, y_test),\n",
    "    eval_metric='roc_auc'\n",
    ")\n",
    "\n",
    "y_pred_test = lgbm_model.predict(X_test)\n",
    "y_pred_proba_test = lgbm_model.predict_proba(X_test)\n",
    "acc_score = accuracy_score(y_test, y_pred_test)\n",
    "roc_score = roc_auc_score(y_test, y_pred_proba_test[:,1])\n",
    "\n",
    "print('-' * 100)\n",
    "print(f'ACCURACY: {acc_score:.2f}')\n",
    "print(f' ROC AUC: {roc_score:.2f}')"
   ]
  },
  {
   "cell_type": "code",
   "execution_count": 46,
   "id": "97e21a51",
   "metadata": {},
   "outputs": [
    {
     "data": {
      "text/html": [
       "<div>\n",
       "<style scoped>\n",
       "    .dataframe tbody tr th:only-of-type {\n",
       "        vertical-align: middle;\n",
       "    }\n",
       "\n",
       "    .dataframe tbody tr th {\n",
       "        vertical-align: top;\n",
       "    }\n",
       "\n",
       "    .dataframe thead th {\n",
       "        text-align: right;\n",
       "    }\n",
       "</style>\n",
       "<table border=\"1\" class=\"dataframe\">\n",
       "  <thead>\n",
       "    <tr style=\"text-align: right;\">\n",
       "      <th></th>\n",
       "      <th>feature</th>\n",
       "      <th>importance</th>\n",
       "    </tr>\n",
       "  </thead>\n",
       "  <tbody>\n",
       "    <tr>\n",
       "      <th>3</th>\n",
       "      <td>duration</td>\n",
       "      <td>1126</td>\n",
       "    </tr>\n",
       "    <tr>\n",
       "      <th>0</th>\n",
       "      <td>title</td>\n",
       "      <td>562</td>\n",
       "    </tr>\n",
       "    <tr>\n",
       "      <th>2</th>\n",
       "      <td>genres</td>\n",
       "      <td>559</td>\n",
       "    </tr>\n",
       "    <tr>\n",
       "      <th>4</th>\n",
       "      <td>year</td>\n",
       "      <td>551</td>\n",
       "    </tr>\n",
       "    <tr>\n",
       "      <th>1</th>\n",
       "      <td>language</td>\n",
       "      <td>202</td>\n",
       "    </tr>\n",
       "  </tbody>\n",
       "</table>\n",
       "</div>"
      ],
      "text/plain": [
       "    feature  importance\n",
       "3  duration        1126\n",
       "0     title         562\n",
       "2    genres         559\n",
       "4      year         551\n",
       "1  language         202"
      ]
     },
     "execution_count": 46,
     "metadata": {},
     "output_type": "execute_result"
    }
   ],
   "source": [
    "# Получим важности признаков\n",
    "feature_importance = lgbm_model.feature_importances_\n",
    "\n",
    "# Создаём DataFrame с названиями признаков и их важностями\n",
    "importance_df = pd.DataFrame(\n",
    "    {\"feature\": X_train.columns, \"importance\": feature_importance}\n",
    ")\n",
    "\n",
    "# Сортируем результаты\n",
    "importance_df.sort_values(\"importance\", ascending=False)"
   ]
  },
  {
   "cell_type": "code",
   "execution_count": 47,
   "id": "6dd9fda4",
   "metadata": {},
   "outputs": [
    {
     "data": {
      "image/png": "[encoded data removed]",
      "text/plain": [
       "<Figure size 1152x1008 with 1 Axes>"
      ]
     },
     "metadata": {
      "needs_background": "light"
     },
     "output_type": "display_data"
    }
   ],
   "source": [
    "lgbm_imp = pd.Series(feature_importance, importance_df[\"feature\"])\n",
    "\n",
    "fig, ax = plt.subplots(figsize=(16, 14))\n",
    "lgbm_imp.sort_values(ascending=False).plot.bar(ax=ax)\n",
    "ax.set_title(\"Важность признаков\")\n",
    "fig.tight_layout()"
   ]
  },
  {
   "cell_type": "code",
   "execution_count": 48,
   "id": "0f213556",
   "metadata": {},
   "outputs": [
    {
     "name": "stdout",
     "output_type": "stream",
     "text": [
      "                Прогноз (+)  Прогноз (-)\n",
      "Реальность (+)          845           94\n",
      "Реальность (-)          776        12734\n"
     ]
    }
   ],
   "source": [
    "# Получение матрицы ошибок\n",
    "tn, fp, fn, tp = confusion_matrix(y_test, y_pred_test).ravel()\n",
    "\n",
    "# Создание pd.DataFrame для матрицы ошибок\n",
    "data = {\"Прогноз (+)\": [tp, fp], \"Прогноз (-)\": [fn, tn]}\n",
    "index = [\"Реальность (+)\", \"Реальность (-)\"]\n",
    "conf_matrix = pd.DataFrame(data=data, index=index)\n",
    "\n",
    "# Вывод матрицы ошибок\n",
    "print(conf_matrix)\n"
   ]
  },
  {
   "cell_type": "code",
   "execution_count": 57,
   "id": "4dc58621",
   "metadata": {},
   "outputs": [
    {
     "name": "stdout",
     "output_type": "stream",
     "text": [
      "fn/tp: 0.11\n",
      "fp/tn: 0.06\n"
     ]
    }
   ],
   "source": [
    "print(f\"fn/tp: {fn/tp:.2f}\")\n",
    "print(f\"fp/tn: {fp/tn:.2f}\")"
   ]
  }
 ],
 "metadata": {
  "kernelspec": {
   "display_name": "Python 3",
   "language": "python",
   "name": "python3"
  },
  "language_info": {
   "codemirror_mode": {
    "name": "ipython",
    "version": 3
   },
   "file_extension": ".py",
   "mimetype": "text/x-python",
   "name": "python",
   "nbconvert_exporter": "python",
   "pygments_lexer": "ipython3",
   "version": "3.8.8"
  },
  "toc": {
   "base_numbering": 1,
   "nav_menu": {},
   "number_sections": true,
   "sideBar": true,
   "skip_h1_title": false,
   "title_cell": "Table of Contents",
   "title_sidebar": "Contents",
   "toc_cell": false,
   "toc_position": {
    "height": "calc(100% - 180px)",
    "left": "10px",
    "top": "150px",
    "width": "384px"
   },
   "toc_section_display": true,
   "toc_window_display": true
  }
 },
 "nbformat": 4,
 "nbformat_minor": 5
}
